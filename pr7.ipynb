{
 "cells": [
  {
   "cell_type": "code",
   "execution_count": 299,
   "metadata": {},
   "outputs": [],
   "source": [
    "#  Class Definitions\n",
    "\n",
    "class File:\n",
    "    def __init__(self,parent, name, size):\n",
    "        self.parent = parent\n",
    "        self.name = name\n",
    "        self.size = size\n",
    "\n",
    "class Folder:\n",
    "    def __init__(self,parent, name):\n",
    "        self.parent = parent\n",
    "        self.name = name\n",
    "        self.children = []\n",
    "        self.size = None\n",
    "    \n",
    "    def calcSize(self):\n",
    "        sumSize = 0\n",
    "        if self.size is None:\n",
    "            for c in self.children:\n",
    "                if isinstance(c,Folder):\n",
    "                    c.size = c.calcSize()\n",
    "                sumSize = sumSize + c.size\n",
    "            self.size = sumSize\n",
    "        else:\n",
    "            sumSize = self.size\n",
    "        return sumSize\n",
    "\n",
    "    def getFolderSizes(self):\n",
    "        arr = [int(self.size)]\n",
    "        for c in self.children:\n",
    "            if isinstance(c,Folder):\n",
    "                arr.extend(c.getFolderSizes())\n",
    "        return arr\n",
    "\n",
    "\n",
    "    def printFolderStructure(self):\n",
    "        out = '- '+self.name + ' (dir, size = ' + str(self.size) + ')\\n'\n",
    "\n",
    "        for c in self.children:\n",
    "            if isinstance(c,Folder):\n",
    "                folderOut = c.printFolderStructure()\n",
    "                lines = folderOut.split('\\n')[:-1]\n",
    "                for l in lines:\n",
    "                    out = out + '\\t' + l + '\\n'\n",
    "            else:\n",
    "                out = out +'\\t- '+ c.name +  ' (file, size = '+str(c.size)+')\\n'\n",
    "        return out"
   ]
  },
  {
   "cell_type": "code",
   "execution_count": 300,
   "metadata": {},
   "outputs": [],
   "source": [
    "#  Parse\n",
    "\n",
    "with open('input/7') as f:\n",
    "    dat = f.read().split('\\n')\n",
    "\n",
    "root = Folder(None,'/')\n",
    "head = root\n",
    "\n",
    "for l in dat:\n",
    "    tags = l.split(' ')\n",
    "    # print(tags)\n",
    "    if tags[0] == '$':\n",
    "        # Command is happening\n",
    "        if tags[1] == 'cd':\n",
    "\n",
    "            # Change dir mode\n",
    "\n",
    "            if tags[2] == '/':\n",
    "            # change to root\n",
    "                head = root\n",
    "            \n",
    "            elif tags[2] == '..':\n",
    "                head = head.parent\n",
    "            \n",
    "            else:\n",
    "            # go into folder\n",
    "                for c in head.children:\n",
    "                    if c.name == tags[2]:\n",
    "                        head = c\n",
    "        # no need for 'ls' if statement, it's the only other option. if tags[0] not $, then we're reading output of ls\n",
    "    else:\n",
    "    # we are in ls mode\n",
    "\n",
    "        # Create list of names in current folder\n",
    "        names = [i.name for i in head.children] \n",
    "\n",
    "        if tags[0] == 'dir':\n",
    "            dirName = tags[1]            \n",
    "            # check if dir has already been indexed in folder, if not then append to children list\n",
    "            if dirName not in names:\n",
    "                head.children.append(Folder(head,dirName))\n",
    "        \n",
    "        else:\n",
    "        # file read\n",
    "            fName = tags[1]\n",
    "            if fName not in names:\n",
    "                head.children.append(File(head,fName,int(tags[0])))\n",
    "                \n",
    "\n"
   ]
  },
  {
   "cell_type": "code",
   "execution_count": 301,
   "metadata": {},
   "outputs": [
    {
     "name": "stdout",
     "output_type": "stream",
     "text": [
      "[48381165, 94853, 584, 24933642]\n",
      "Problem 1: 95437\n",
      "space needed: 8381165\n",
      "Problem 2: 24933642\n"
     ]
    }
   ],
   "source": [
    "#  Solve Problem 1\n",
    "\n",
    "root.calcSize()\n",
    "\n",
    "\n",
    "rootSizes = root.getFolderSizes()\n",
    "\n",
    "print(rootSizes)\n",
    "sumSize = sum([(i < 100000)*i for i in rootSizes])\n",
    "    \n",
    "print(f'Problem 1: {sumSize}')\n",
    "\n",
    "# Part 2\n",
    "spaceNeeded = root.size - 40000000\n",
    "print(f'space needed: {spaceNeeded}')\n",
    "\n",
    "pr2list = []\n",
    "for i in rootSizes:\n",
    "    if i > spaceNeeded:\n",
    "        pr2list.append(i)\n",
    "    \n",
    "\n",
    "print(f'Problem 2: {min(pr2list)}')\n"
   ]
  },
  {
   "cell_type": "code",
   "execution_count": 302,
   "metadata": {},
   "outputs": [
    {
     "name": "stdout",
     "output_type": "stream",
     "text": [
      "- / (dir, size = 48381165)\n",
      "\t- a (dir, size = 94853)\n",
      "\t\t- e (dir, size = 584)\n",
      "\t\t\t- i (file, size = 584)\n",
      "\t\t- f (file, size = 29116)\n",
      "\t\t- g (file, size = 2557)\n",
      "\t\t- h.lst (file, size = 62596)\n",
      "\t- b.txt (file, size = 14848514)\n",
      "\t- c.dat (file, size = 8504156)\n",
      "\t- d (dir, size = 24933642)\n",
      "\t\t- j (file, size = 4060174)\n",
      "\t\t- d.log (file, size = 8033020)\n",
      "\t\t- d.ext (file, size = 5626152)\n",
      "\t\t- k (file, size = 7214296)\n",
      "\n"
     ]
    }
   ],
   "source": [
    "print(root.printFolderStructure())"
   ]
  }
 ],
 "metadata": {
  "kernelspec": {
   "display_name": "Python 3.9.13 ('base')",
   "language": "python",
   "name": "python3"
  },
  "language_info": {
   "codemirror_mode": {
    "name": "ipython",
    "version": 3
   },
   "file_extension": ".py",
   "mimetype": "text/x-python",
   "name": "python",
   "nbconvert_exporter": "python",
   "pygments_lexer": "ipython3",
   "version": "3.9.13"
  },
  "orig_nbformat": 4,
  "vscode": {
   "interpreter": {
    "hash": "7672c032c71307a9d2e2de933bc31a203109ac0f3b59d326ba27acf02560982c"
   }
  }
 },
 "nbformat": 4,
 "nbformat_minor": 2
}
