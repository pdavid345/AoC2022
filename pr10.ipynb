{
 "cells": [
  {
   "cell_type": "code",
   "execution_count": 23,
   "metadata": {},
   "outputs": [],
   "source": [
    "from aocd import get_data\n",
    "\n",
    "YEAR = 2022\n",
    "DAY = 10\n",
    "\n",
    "dat = get_data(day=DAY,year=YEAR)\n",
    "\n",
    "with open('input/10','w') as f:\n",
    "    f.write(dat)\n",
    "\n",
    "f.close()\n"
   ]
  },
  {
   "cell_type": "code",
   "execution_count": 24,
   "metadata": {},
   "outputs": [],
   "source": [
    "with open('input/10') as f:\n",
    "    dat = [i.split(' ') for i in f.read().split('\\n')]\n",
    "\n",
    "import numpy as np\n",
    "runTime = [len(i) for i in dat]\n",
    "addri = np.zeros_like(runTime)\n",
    "\n",
    "for i,l in enumerate(dat):\n",
    "    if(len(l) == 2):\n",
    "        addri[i] = int(l[1])\n",
    "\n",
    "# print(dat)\n",
    "# print(runTime)\n",
    "# print(addri)"
   ]
  },
  {
   "cell_type": "code",
   "execution_count": 25,
   "metadata": {},
   "outputs": [],
   "source": [
    "from itertools import accumulate\n",
    "\n",
    "totRun = np.array(list(accumulate(runTime)))\n",
    "\n",
    "totAddr = np.array(list(accumulate(addri))) +1\n",
    "# print(totRun)\n",
    "# print(totAddr)"
   ]
  },
  {
   "cell_type": "code",
   "execution_count": 26,
   "metadata": {},
   "outputs": [
    {
     "name": "stdout",
     "output_type": "stream",
     "text": [
      "13060\n"
     ]
    }
   ],
   "source": [
    "from math import floor\n",
    "twentys =list(range(20, totRun[-1] , 40))\n",
    "# print(twentys)\n",
    "\n",
    "totSum = 0\n",
    "for i in twentys:\n",
    "\n",
    "\n",
    "    # print(f'Address to find {i} found at location {np.argmax(totRun >= i)-1}, address at that location: {totAddr[np.argmax(totRun >= i)-1]}')\n",
    "    # print(f'Context around location: {totRun[np.argmax(totRun >= i)-2 : np.argmax(totRun >= i) + 1]}')\n",
    "    # print(f'Address around location: {totAddr[np.argmax(totRun >= i)-2 : np.argmax(totRun >= i) + 1]}')\n",
    "    totSum += totAddr[np.argmax(totRun >= i)-1] * i\n",
    "\n",
    "print(totSum)\n",
    "\n",
    "\n"
   ]
  },
  {
   "cell_type": "code",
   "execution_count": 27,
   "metadata": {},
   "outputs": [
    {
     "name": "stdout",
     "output_type": "stream",
     "text": [
      "[ 2  2 31  7 11 14 12 15 16 21 24 22 24 24 24 31 31 31 31 36 37 37 -1 20\n",
      " 28 28  9  7  9 14 16  4 17 19 24 26  8 31 31 16 32 39 39 39  1  1  1  1\n",
      "  1  1  1  9 11 14 12 16 16 16 21 24 24 26 31 31 31 29 29 32 38 38  0 -1\n",
      " 34 28  9  7  9 14 16 19 19 21 24 22 24 24 15 31 31 40 37  1 -1 10 32  4\n",
      "  4  7  9 14 16 19 17 19 19 22 24 24 13 29 31 36  5  5 -1 -1 -1 -1 -1 -1\n",
      "  6 36 12 11 16 16 16 16 16 16 21 21 26 26 27 27 29 34 36 37 37 37 37 37]\n",
      "[  2   3   5   7   9  11  13  15  17  19  21  23  25  26  27  29  30  31\n",
      "  32  34  36  37  39  41  43  44  46  48  50  52  54  56  58  60  62  64\n",
      "  66  68  69  71  73  75  76  77  79  80  81  82  83  84  85  87  89  91\n",
      "  93  95  96  97  99 101 102 104 106 107 108 110 111 113 115 116 118 120\n",
      " 122 124 126 128 130 132 134 136 137 139 141 143 145 146 148 150 151 153\n",
      " 155 157 159 161 163 165 166 168 170 172 174 176 178 180 181 183 185 186\n",
      " 188 190 192 194 196 197 199 200 201 202 203 204 206 208 210 212 214 215\n",
      " 216 217 218 219 221 222 224 225 227 228 230 232 234 236 237 238 239 240]\n",
      "[0, 40, 80, 120, 160, 200]\n",
      "[ 2  3  5  7  9 11 13 15 17 19 21 23 25 26 27 29 30 31 32 34 36 37 39]\n",
      "[ 2  2 31  7 11 14 12 15 16 21 24 22 24 24 24 31 31 31 31 36 37 37 -1]\n"
     ]
    }
   ],
   "source": [
    "print(totAddr)\n",
    "print(totRun)\n",
    "\n",
    "lineRanges =list(range(0, totRun[-1] , 40))\n",
    "print(lineRanges)\n",
    "\n",
    "i = 0\n",
    "\n",
    "print(totRun[np.logical_and(totRun >= i*40, totRun <= (i+1)*40)])\n",
    "print(totAddr[np.logical_and(totRun >= i*40, totRun <= (i+1)*40)])"
   ]
  },
  {
   "cell_type": "code",
   "execution_count": 28,
   "metadata": {},
   "outputs": [
    {
     "name": "stdout",
     "output_type": "stream",
     "text": [
      "####...##.#..#.###..#..#.#....###..####.\n",
      "#.......#.#..#.#..#.#..#.#....#..#....#.\n",
      "###.....#.#..#.###..#..#.#....#..#...#..\n",
      "#.......#.#..#.#..#.#..#.#....###...#...\n",
      "#....#..#.#..#.#..#.#..#.#....#.#..#....\n",
      "#.....##...##..###...##..####.#..#.####.\n"
     ]
    }
   ],
   "source": [
    "def printLine(run,addr,start=1):\n",
    "    out = ''\n",
    "    run = np.insert(run,0,-1)\n",
    "    addr = np.insert(addr,0,start)\n",
    "    # print(run)\n",
    "    # print(addr)\n",
    "\n",
    "    for i in range(40):\n",
    "        # print(np.argmax(np.flip(run <=i)))\n",
    "        idx = len(run)-1 - np.argmax(np.flip(run <= i))\n",
    "        # print(idx)\n",
    "        if(abs(addr[idx]-i) < 2):\n",
    "            out = out + '#'\n",
    "        else:\n",
    "            out = out + '.'\n",
    "    print(out)\n",
    "\n",
    "\n",
    "for i in range(6):\n",
    "\n",
    "\n",
    "    run = totRun[np.logical_and(totRun >= i*40, totRun <= (i+1)*40)] - i*40\n",
    "    addr = totAddr[np.logical_and(totRun >= i*40, totRun <= (i+1)*40)]\n",
    "    if(i==0):\n",
    "        printLine(run,addr)\n",
    "    else:\n",
    "        printLine(run,addr,start)\n",
    "    start = addr[-1]"
   ]
  }
 ],
 "metadata": {
  "kernelspec": {
   "display_name": "Python 3.9.13 ('base')",
   "language": "python",
   "name": "python3"
  },
  "language_info": {
   "codemirror_mode": {
    "name": "ipython",
    "version": 3
   },
   "file_extension": ".py",
   "mimetype": "text/x-python",
   "name": "python",
   "nbconvert_exporter": "python",
   "pygments_lexer": "ipython3",
   "version": "3.9.13"
  },
  "orig_nbformat": 4,
  "vscode": {
   "interpreter": {
    "hash": "7672c032c71307a9d2e2de933bc31a203109ac0f3b59d326ba27acf02560982c"
   }
  }
 },
 "nbformat": 4,
 "nbformat_minor": 2
}
