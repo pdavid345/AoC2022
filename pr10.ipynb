{
 "cells": [
  {
   "cell_type": "code",
   "execution_count": 69,
   "metadata": {},
   "outputs": [],
   "source": [
    "from aocd import get_data\n",
    "\n",
    "YEAR = 2022\n",
    "DAY = 10\n",
    "\n",
    "dat = get_data(day=DAY,year=YEAR)\n",
    "\n",
    "with open('input/10','w') as f:\n",
    "    f.write(dat)\n",
    "\n",
    "f.close()\n"
   ]
  },
  {
   "cell_type": "code",
   "execution_count": 70,
   "metadata": {},
   "outputs": [],
   "source": [
    "with open('input/10.test') as f:\n",
    "    dat = [i.split(' ') for i in f.read().split('\\n')]\n",
    "\n",
    "import numpy as np\n",
    "runTime = [len(i) for i in dat]\n",
    "addri = np.zeros_like(runTime)\n",
    "\n",
    "for i,l in enumerate(dat):\n",
    "    if(len(l) == 2):\n",
    "        addri[i] = int(l[1])\n",
    "\n",
    "# print(dat)\n",
    "# print(runTime)\n",
    "# print(addri)"
   ]
  },
  {
   "cell_type": "code",
   "execution_count": 71,
   "metadata": {},
   "outputs": [],
   "source": [
    "from itertools import accumulate\n",
    "\n",
    "totRun = np.array(list(accumulate(runTime)))\n",
    "\n",
    "totAddr = np.array(list(accumulate(addri))) +1\n",
    "# print(totRun)\n",
    "# print(totAddr)"
   ]
  },
  {
   "cell_type": "code",
   "execution_count": 86,
   "metadata": {},
   "outputs": [
    {
     "name": "stdout",
     "output_type": "stream",
     "text": [
      "13140\n"
     ]
    }
   ],
   "source": [
    "from math import floor\n",
    "twentys =list(range(20, totRun[-1] , 40))\n",
    "# print(twentys)\n",
    "\n",
    "totSum = 0\n",
    "for i in twentys:\n",
    "\n",
    "\n",
    "    # print(f'Address to find {i} found at location {np.argmax(totRun >= i)-1}, address at that location: {totAddr[np.argmax(totRun >= i)-1]}')\n",
    "    # print(f'Context around location: {totRun[np.argmax(totRun >= i)-2 : np.argmax(totRun >= i) + 1]}')\n",
    "    # print(f'Address around location: {totAddr[np.argmax(totRun >= i)-2 : np.argmax(totRun >= i) + 1]}')\n",
    "    totSum += totAddr[np.argmax(totRun >= i)-1] * i\n",
    "\n",
    "print(totSum)\n",
    "\n",
    "\n"
   ]
  },
  {
   "cell_type": "code",
   "execution_count": 90,
   "metadata": {},
   "outputs": [
    {
     "name": "stdout",
     "output_type": "stream",
     "text": [
      "[16  5 11  8 13 12  4 17 21 21 20 25 24 29 28 33 32 37 36  1  2 26  7  8\n",
      " 24 13 13 13 34 19 19 19 16 25 26 23 31 32 37 37 37 37 37 37  1  1  2  9\n",
      "  9  9  9 11 17 17 17 17 17 17 18 18 18 25 26 26 13 26 33 33 34  1  1  1\n",
      "  1  3  3  3  3 11 11 10 12 13 13 30 21 22 23 20 31 31 31 32 32 33 33 33\n",
      " 20  1  2  5 31  1 13 12 15 16 16 16 16  7 25 26 28 28 28 37 37 37 37 36\n",
      " 38  1  2  5  5 20 -1 21 15 16 16 18 19 19  9  9  9 29 30 32 34 28 17 17\n",
      " 17 17]\n",
      "[  2   4   6   8  10  12  14  16  18  19  21  23  25  27  29  31  33  35\n",
      "  37  39  41  43  45  47  49  51  52  53  55  57  58  59  61  63  65  67\n",
      "  69  71  73  74  75  76  77  78  80  81  83  85  86  87  88  90  92  93\n",
      "  94  95  96  97  99 100 101 103 105 106 108 110 112 113 115 117 118 119\n",
      " 120 122 123 124 125 127 128 130 132 134 135 137 139 141 143 145 147 148\n",
      " 149 151 152 154 155 156 158 160 162 164 166 168 170 172 174 176 177 178\n",
      " 179 181 183 185 187 188 189 191 192 193 194 196 198 200 202 204 205 207\n",
      " 209 211 213 215 216 218 220 221 223 224 225 227 229 231 233 235 237 238\n",
      " 239 240]\n",
      "[0, 40, 80, 120, 160, 200]\n",
      "[ 2  4  6  8 10 12 14 16 18 19 21 23 25 27 29 31 33 35 37 39]\n",
      "[16  5 11  8 13 12  4 17 21 21 20 25 24 29 28 33 32 37 36  1]\n"
     ]
    }
   ],
   "source": [
    "print(totAddr)\n",
    "print(totRun)\n",
    "\n",
    "lineRanges =list(range(0, totRun[-1] , 40))\n",
    "print(lineRanges)\n",
    "\n",
    "i = 0\n",
    "\n",
    "print(totRun[np.logical_and(totRun >= i*40, totRun <= (i+1)*40)])\n",
    "print(totAddr[np.logical_and(totRun >= i*40, totRun <= (i+1)*40)])"
   ]
  },
  {
   "cell_type": "code",
   "execution_count": 116,
   "metadata": {},
   "outputs": [
    {
     "name": "stdout",
     "output_type": "stream",
     "text": [
      "[-1  2  4  6  8 10 12 14 16 18 19 21 23 25 27 29 31 33 35 37 39]\n",
      "[ 1 16  5 11  8 13 12  4 17 21 21 20 25 24 29 28 33 32 37 36  1]\n",
      "##..##..##..##..##..##..##..##..##..##..\n",
      "[-1  1  3  5  7  9 11 12 13 15 17 18 19 21 23 25 27 29 31 33 34 35 36 37\n",
      " 38 40]\n",
      "[ 1  2 26  7  8 24 13 13 13 34 19 19 19 16 25 26 23 31 32 37 37 37 37 37\n",
      " 37  1]\n",
      "......................................#.\n",
      "[-1  0  1  3  5  6  7  8 10 12 13 14 15 16 17 19 20 21 23 25 26 28 30 32\n",
      " 33 35 37 38 39 40]\n",
      "[ 1  1  1  2  9  9  9  9 11 17 17 17 17 17 17 18 18 18 25 26 26 13 26 33\n",
      " 33 34  1  1  1  1]\n",
      "........................................\n",
      "[-1  0  2  3  4  5  7  8 10 12 14 15 17 19 21 23 25 27 28 29 31 32 34 35\n",
      " 36 38 40]\n",
      "[ 1  1  3  3  3  3 11 11 10 12 13 13 30 21 22 23 20 31 31 31 32 32 33 33\n",
      " 33 20  1]\n",
      "........................................\n",
      "[-1  0  2  4  6  8 10 12 14 16 17 18 19 21 23 25 27 28 29 31 32 33 34 36\n",
      " 38 40]\n",
      "[ 1  1  2  5 31  1 13 12 15 16 16 16 16  7 25 26 28 28 28 37 37 37 37 36\n",
      " 38  1]\n",
      "......................................#.\n",
      "[-1  0  2  4  5  7  9 11 13 15 16 18 20 21 23 24 25 27 29 31 33 35 37 38\n",
      " 39 40]\n",
      "[ 1  1  2  5  5 20 -1 21 15 16 16 18 19 19  9  9  9 29 30 32 34 28 17 17\n",
      " 17 17]\n",
      "....................#...................\n"
     ]
    }
   ],
   "source": [
    "def printLine(run,addr,start=1):\n",
    "    out = ''\n",
    "    run = np.insert(run,0,-1)\n",
    "    addr = np.insert(addr,0,start)\n",
    "    print(run)\n",
    "    print(addr)\n",
    "\n",
    "    for i in range(40):\n",
    "        idx = 20 - np.argmax(np.flip(run <= i))\n",
    "        if(abs(addr[idx]-i) < 2):\n",
    "            out = out + '#'\n",
    "        else:\n",
    "            out = out + '.'\n",
    "    print(out)\n",
    "\n",
    "\n",
    "for i in range(6):\n",
    "\n",
    "\n",
    "    run = totRun[np.logical_and(totRun >= i*40, totRun <= (i+1)*40)] - i*40\n",
    "    addr = totAddr[np.logical_and(totRun >= i*40, totRun <= (i+1)*40)]\n",
    "    if(i==0):\n",
    "        printLine(run,addr)\n",
    "    else:\n",
    "        printLine(run,addr,start)\n",
    "    start = addr[-1]"
   ]
  }
 ],
 "metadata": {
  "kernelspec": {
   "display_name": "Python 3.9.13 ('base')",
   "language": "python",
   "name": "python3"
  },
  "language_info": {
   "codemirror_mode": {
    "name": "ipython",
    "version": 3
   },
   "file_extension": ".py",
   "mimetype": "text/x-python",
   "name": "python",
   "nbconvert_exporter": "python",
   "pygments_lexer": "ipython3",
   "version": "3.9.13"
  },
  "orig_nbformat": 4,
  "vscode": {
   "interpreter": {
    "hash": "7672c032c71307a9d2e2de933bc31a203109ac0f3b59d326ba27acf02560982c"
   }
  }
 },
 "nbformat": 4,
 "nbformat_minor": 2
}
