{
 "cells": [
  {
   "cell_type": "code",
   "execution_count": 513,
   "metadata": {},
   "outputs": [],
   "source": [
    "from aocd import get_data\n",
    "\n",
    "YEAR = 2022\n",
    "DAY = 11\n",
    "\n",
    "dat = get_data(day=DAY,year=YEAR)\n",
    "\n",
    "with open('input/11','w') as f:\n",
    "    f.write(dat)\n",
    "\n",
    "f.close()"
   ]
  },
  {
   "cell_type": "code",
   "execution_count": 514,
   "metadata": {},
   "outputs": [],
   "source": [
    "with open('input/11.test') as f:\n",
    "    dat = f.read().split('\\n')"
   ]
  },
  {
   "cell_type": "code",
   "execution_count": 515,
   "metadata": {},
   "outputs": [],
   "source": [
    "from math import floor\n",
    "import numpy as np\n",
    "class Monkey:\n",
    "    def __init__(self, id):\n",
    "        self.id = id\n",
    "        self.items = []\n",
    "        self.items2 = []\n",
    "        self.testDivNumber = 1\n",
    "        self.opOperand = '' # Either '*' or '+'\n",
    "        self.opTarget = 'old'#either 'old' or 'int'\n",
    "        self.trueTarget = 0\n",
    "        self.falseTarget = 0\n",
    "        self.inspected = 0\n",
    "\n",
    "    def __repr__(self) -> str:\n",
    "        out = 'Monkey ' + str(self.id) + ': ' + ', '.join([str(i) for i in self.items])\n",
    "        return out\n",
    "\n",
    "    \n",
    "\n",
    "    def play(self):\n",
    "        out = []\n",
    "        self.inspected += len(self.items)\n",
    "        for i in self.items:\n",
    "            if(self.opOperand == '+'):\n",
    "                tmp = floor((i + i if self.opTarget == 'old' else i + int(self.opTarget)) / 3)\n",
    "            else:\n",
    "                tmp = floor((i * i if self.opTarget == 'old' else i * int(self.opTarget)) / 3)\n",
    "            newTarget = (self.trueTarget, tmp) if (tmp % self.testDivNumber == 0) else (self.falseTarget, tmp)\n",
    "            out.append(newTarget)\n",
    "        self.items = []\n",
    "        return out\n",
    "\n",
    "    def initPlay2(self,mods):\n",
    "        self.items2 = [[i%m for m in mods]  for i in self.items]\n",
    "\n",
    "    def play2(self,mods):\n",
    "        out = []\n",
    "        print(self.items2)\n",
    "        print(f'length of items: {len(self.items2)}, type of items2: {type(self.items2)}')\n",
    "        self.inspected += len(self.items2)\n",
    "        # print(f'out: {out}')\n",
    "        for i in self.items2: # i is np list [, , , ]\n",
    "            # print(f'current item: {i}, type: {type(i)}')\n",
    "            if(self.opOperand == '+'):   \n",
    "                # print('plus')              \n",
    "                tmp = np.array([( (i[j] + i[j]) if self.opTarget == 'old' else (i[j] + int(self.opTarget)))%mods[j] for j in range(len(i))])\n",
    "            else:\n",
    "                # print('mult')\n",
    "                \n",
    "                tmp = np.array([( (i[j] * i[j]) if self.opTarget == 'old' else (i[j] * int(self.opTarget)))%mods[j] for j in range(len(i))])\n",
    "                # print(f'tmp: {tmp}, type: {type(tmp)}')\n",
    "            newTarget = (self.trueTarget, tmp) if (tmp[self.id] == 0) else (self.falseTarget, tmp)\n",
    "            # print(f'newTarget: {newTarget}')\n",
    "            out.append(newTarget)\n",
    "            # print(out)\n",
    "        self.items2 = []\n",
    "        print(f'out: {out}')\n",
    "        return out\n",
    "    \n"
   ]
  },
  {
   "cell_type": "code",
   "execution_count": 516,
   "metadata": {},
   "outputs": [],
   "source": [
    "def initMonkeys():\n",
    "    monkeys = []\n",
    "    mods = [] #for part 2\n",
    "    # Parse\n",
    "    idx =0\n",
    "    import regex as re\n",
    "    while idx < len(dat):\n",
    "        id = int(re.findall('Monkey (\\d*):',dat[idx])[0])\n",
    "        monkeys.append(Monkey(id))\n",
    "        items = re.findall(' (\\d+)',dat[idx+1],overlapped=False)\n",
    "        for o in items:\n",
    "            monkeys[-1].items.append(int(o))\n",
    "        monkeys[-1].opOperand = re.findall('= old (\\*|\\+)',dat[idx+2])[0]\n",
    "        monkeys[-1].opTarget = re.findall('(?:\\*|\\+) ([0-9]+|old)',dat[idx+2])[0]\n",
    "        monkeys[-1].testDivNumber = int(re.findall('([0-9]+)',dat[idx+3])[0])\n",
    "        monkeys[-1].trueTarget = int(re.findall('([0-9]+)',dat[idx+4])[0])\n",
    "        monkeys[-1].falseTarget = int(re.findall('([0-9]+)',dat[idx+5])[0])\n",
    "        idx = idx+7\n",
    "    return monkeys\n"
   ]
  },
  {
   "cell_type": "code",
   "execution_count": 517,
   "metadata": {},
   "outputs": [],
   "source": [
    "def playRound(monkeys):\n",
    "    for m in monkeys:\n",
    "        out = m.play()\n",
    "        for o in out:\n",
    "            monkeys[o[0]].items.append(o[1])\n",
    "\n",
    "\n",
    "def printMonkeys(monkeys):\n",
    "    for m in monkeys:\n",
    "        print(m)\n",
    "    print('\\n')\n"
   ]
  },
  {
   "cell_type": "code",
   "execution_count": 518,
   "metadata": {},
   "outputs": [
    {
     "name": "stdout",
     "output_type": "stream",
     "text": [
      "inspected: 101\n",
      "inspected: 95\n",
      "inspected: 7\n",
      "inspected: 105\n",
      "Problem 1: 10605\n"
     ]
    }
   ],
   "source": [
    "# print('initial:')\n",
    "# printMonkeys(monkeys)\n",
    "monkeys = initMonkeys()\n",
    "for i in range(20):\n",
    "    playRound(monkeys)\n",
    "    # printMonkeys(monkeys)\n",
    "\n",
    "for m in monkeys:\n",
    "    print(f'inspected: {m.inspected}')\n",
    "\n",
    "print(f'Problem 1: {sorted([m.inspected for m in monkeys],reverse=True)[0]*sorted([m.inspected for m in monkeys],reverse=True)[1]}')\n"
   ]
  },
  {
   "cell_type": "code",
   "execution_count": 519,
   "metadata": {},
   "outputs": [],
   "source": [
    "def playRound2(monkeys):\n",
    "    output  = ''\n",
    "    for i,m in enumerate(monkeys):\n",
    "        print(f'\\nPlaying monkey {i}: \\n')\n",
    "        out = m.play2(mods)\n",
    "        output += str(out) + '\\n'\n",
    "        for o in out:\n",
    "            monkeys[o[0]].items2.append(o[1])\n",
    "    return output\n"
   ]
  },
  {
   "cell_type": "code",
   "execution_count": 520,
   "metadata": {},
   "outputs": [
    {
     "name": "stdout",
     "output_type": "stream",
     "text": [
      "\n",
      "Playing monkey 0: \n",
      "\n",
      "[[10, 3, 1, 11], [6, 3, 7, 13]]\n",
      "length of items: 2, type of items2: <class 'list'>\n",
      "out: [(3, array([6, 0, 6, 5])), (3, array([22,  0,  3,  9]))]\n",
      "\n",
      "Playing monkey 1: \n",
      "\n",
      "[[8, 16, 2, 3], [19, 8, 0, 14], [6, 18, 10, 7], [5, 17, 9, 6]]\n",
      "length of items: 4, type of items2: <class 'list'>\n",
      "out: [(0, array([14,  3,  8,  9])), (0, array([ 2, 14,  6,  3])), (0, array([12,  5,  3, 13])), (0, array([11,  4,  2, 12]))]\n",
      "\n",
      "Playing monkey 2: \n",
      "\n",
      "[[10, 3, 1, 11], [14, 3, 8, 9], [5, 2, 6, 12]]\n",
      "length of items: 3, type of items2: <class 'list'>\n",
      "out: [(3, array([8, 9, 1, 2])), (3, array([12,  9, 12, 13])), (3, array([ 2,  4, 10,  8]))]\n",
      "\n",
      "Playing monkey 3: \n",
      "\n",
      "[[5, 17, 9, 6], array([6, 0, 6, 5]), array([22,  0,  3,  9]), array([8, 9, 1, 2]), array([12,  9, 12, 13]), array([ 2,  4, 10,  8])]\n",
      "length of items: 6, type of items2: <class 'list'>\n",
      "out: [(1, array([ 8,  1, 12,  9])), (1, array([9, 3, 9, 8])), (1, array([ 2,  3,  6, 12])), (1, array([11, 12,  4,  5])), (1, array([15, 12,  2, 16])), (1, array([ 5,  7,  0, 11]))]\n",
      "[(3, array([6, 0, 6, 5])), (3, array([22,  0,  3,  9]))]\n",
      "[(0, array([14,  3,  8,  9])), (0, array([ 2, 14,  6,  3])), (0, array([12,  5,  3, 13])), (0, array([11,  4,  2, 12]))]\n",
      "[(3, array([8, 9, 1, 2])), (3, array([12,  9, 12, 13])), (3, array([ 2,  4, 10,  8]))]\n",
      "[(1, array([ 8,  1, 12,  9])), (1, array([9, 3, 9, 8])), (1, array([ 2,  3,  6, 12])), (1, array([11, 12,  4,  5])), (1, array([15, 12,  2, 16])), (1, array([ 5,  7,  0, 11]))]\n",
      "\n"
     ]
    }
   ],
   "source": [
    "# For problem 2 a different structure in needed.\n",
    "#instead of listing items, we list a list with all \n",
    "# modulos for the divisiblity rules\n",
    "# 79 becomes (79%23, 79%19, 79%13, 79%17)\n",
    "\n",
    "monkeys = initMonkeys()\n",
    "mods = [m.testDivNumber for m in monkeys]\n",
    "\n",
    "for i,m in enumerate(monkeys):\n",
    "    m.initPlay2(mods)\n",
    "\n",
    "\n",
    "\n",
    "out = playRound2(monkeys)\n",
    "print(out)\n"
   ]
  },
  {
   "cell_type": "code",
   "execution_count": 521,
   "metadata": {},
   "outputs": [
    {
     "name": "stdout",
     "output_type": "stream",
     "text": [
      "monkey 0: 2\n",
      "monkey 1: 4\n",
      "monkey 2: 3\n",
      "monkey 3: 6\n"
     ]
    }
   ],
   "source": [
    "for m in range(len(monkeys)):\n",
    "    print(f'monkey {m}: {monkeys[m].inspected}')"
   ]
  }
 ],
 "metadata": {
  "kernelspec": {
   "display_name": "base",
   "language": "python",
   "name": "python3"
  },
  "language_info": {
   "codemirror_mode": {
    "name": "ipython",
    "version": 3
   },
   "file_extension": ".py",
   "mimetype": "text/x-python",
   "name": "python",
   "nbconvert_exporter": "python",
   "pygments_lexer": "ipython3",
   "version": "3.9.13"
  },
  "orig_nbformat": 4,
  "vscode": {
   "interpreter": {
    "hash": "7672c032c71307a9d2e2de933bc31a203109ac0f3b59d326ba27acf02560982c"
   }
  }
 },
 "nbformat": 4,
 "nbformat_minor": 2
}
