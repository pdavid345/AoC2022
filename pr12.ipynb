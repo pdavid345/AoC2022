{
 "cells": [
  {
   "cell_type": "code",
   "execution_count": 486,
   "metadata": {},
   "outputs": [],
   "source": [
    "from aocd import get_data\n",
    "\n",
    "YEAR = 2022\n",
    "DAY = 12\n",
    "\n",
    "dat = get_data(day=DAY,year=YEAR)\n",
    "\n",
    "with open('input/12','w') as f:\n",
    "    f.write(dat)\n",
    "\n",
    "\n",
    "\n",
    "f.close()\n",
    "\n"
   ]
  },
  {
   "cell_type": "code",
   "execution_count": 487,
   "metadata": {},
   "outputs": [
    {
     "name": "stdout",
     "output_type": "stream",
     "text": [
      "[[ 83  97  98 113 112 111 110 109]\n",
      " [ 97  98  99 114 121 120 120 108]\n",
      " [ 97  99  97 115 122  69 120 107]\n",
      " [ 97  99  99 116 117 118 119 106]\n",
      " [ 97  98 100 101 102 103 104 105]]\n"
     ]
    }
   ],
   "source": [
    "import numpy as np\n",
    "with open('input/12.test') as f:\n",
    "    dat = np.array([list(map(ord,list(i))) for i in f.read().split('\\n')])\n",
    "# S = 83, E = 69\n",
    "print(dat)"
   ]
  },
  {
   "cell_type": "code",
   "execution_count": 488,
   "metadata": {},
   "outputs": [],
   "source": [
    "class Cell:\n",
    "    def __init__(self, row, col):\n",
    "        self.value = 0\n",
    "        self.row = row\n",
    "        self.col = col\n",
    "        self.neighbors = []\n",
    "        self.foundStep = 999 # for search\n",
    "    \n",
    "\n",
    "    def add_neighbor(self, cell):\n",
    "        \n",
    "        self.neighbors.append(cell)\n",
    "    \n",
    "    def __repr__(self) -> str:\n",
    "        s = 'Row: ' + str(self.row) + ' Col: '+ str(self.col) + ' val: ' +chr(self.value) + '\\n'\n",
    "        return s\n",
    "    \n",
    "        "
   ]
  },
  {
   "cell_type": "code",
   "execution_count": 489,
   "metadata": {},
   "outputs": [],
   "source": [
    "class CellMap:\n",
    "    def __init__(self, rows, cols):\n",
    "        self.rows = rows\n",
    "        self.cols = cols\n",
    "        self.grid = [[Cell(row, col) for col in range(cols)] for row in range(rows)]\n",
    "    \n",
    "    def connect(self):\n",
    "        for row in range(self.rows):\n",
    "            for col in range(self.cols):\n",
    "                cell = self.grid[row][col]\n",
    "                if row > 0:\n",
    "                    cell.add_neighbor(self.grid[row - 1][col])\n",
    "                if row < self.rows - 1:\n",
    "                    cell.add_neighbor(self.grid[row + 1][col])\n",
    "                if col > 0:\n",
    "                    cell.add_neighbor(self.grid[row][col - 1])\n",
    "                if col < self.cols - 1:\n",
    "                    cell.add_neighbor(self.grid[row][col + 1])\n",
    "    def __getitem__(self, index):\n",
    "        return self.grid[index]"
   ]
  },
  {
   "cell_type": "code",
   "execution_count": 490,
   "metadata": {},
   "outputs": [
    {
     "name": "stdout",
     "output_type": "stream",
     "text": [
      "(5, 8)\n"
     ]
    }
   ],
   "source": [
    "ix = dat.shape[0]\n",
    "iy = dat.shape[1]\n",
    "\n",
    "A = CellMap(ix,iy)\n",
    "\n",
    "for i in range(ix):\n",
    "    for j in range(iy):\n",
    "        # print(dat[i][j])\n",
    "        A[i][j].value = dat[i][j]\n",
    "        if (dat[i][j] == ord('E')):\n",
    "            A[i][j].value = ord('{')\n",
    "        if (dat[i][j] == ord('`')):\n",
    "            starter = A[i][j]\n",
    "            A[i][j].foundStep = 0\n",
    "            A[i][j].value = ord('`') #just before 'a'\n",
    "\n",
    "print(dat.shape)"
   ]
  },
  {
   "cell_type": "code",
   "execution_count": 491,
   "metadata": {},
   "outputs": [],
   "source": [
    "A.connect()\n",
    "searchStack = []\n",
    "searchStack.extend(starter.neighbors)   \n",
    "\n",
    "while len(searchStack) > 0:\n",
    "    s = searchStack.pop()\n",
    "    # print(f'current item: {s}, foundStep: {s.foundStep}')\n",
    "    # print(f'neighbors: ')\n",
    "    for n in s.neighbors: #check all 4 neighbors\n",
    "        if(((n.value- s.value) < 2)):\n",
    "            s.foundStep = min(s.foundStep, n.foundStep +1)\n",
    "        # print(f'new value: {s.foundStep}')\n",
    "\n",
    "    for n in s.neighbors:\n",
    "        if( ((n.value- s.value) < 2)):\n",
    "            if n.foundStep > s.foundStep +1:\n",
    "                # print(f'appending: {n}, with current fs of {n.foundStep}')\n",
    "                searchStack.append(n)\n",
    "    # print(s.foundStep)\n",
    "    "
   ]
  },
  {
   "cell_type": "code",
   "execution_count": 492,
   "metadata": {},
   "outputs": [
    {
     "name": "stdout",
     "output_type": "stream",
     "text": [
      "Sol 1: 999\n"
     ]
    }
   ],
   "source": [
    "for i in range(ix):\n",
    "        for j in range(iy):        \n",
    "        # print('\\t'.join([str(A[i][j].foundStep) for j in range(iy)]))\n",
    "                if(A[i][j].value == ord('{')):\n",
    "                        print(f'Sol 1: {A[i][j].foundStep}')"
   ]
  },
  {
   "cell_type": "code",
   "execution_count": 493,
   "metadata": {},
   "outputs": [
    {
     "name": "stdout",
     "output_type": "stream",
     "text": [
      "999\t999\t999\t999\t999\t999\t999\t999\n",
      "999\t999\t999\t999\t999\t999\t999\t999\n",
      "999\t999\t999\t999\t999\t999\t999\t999\n",
      "999\t999\t999\t999\t999\t999\t999\t999\n",
      "999\t999\t999\t999\t999\t999\t999\t999\n"
     ]
    }
   ],
   "source": [
    "for i in range(ix):        \n",
    "        print('\\t'.join([str(A[i][j].foundStep) for j in range(iy)]))"
   ]
  },
  {
   "cell_type": "code",
   "execution_count": 494,
   "metadata": {},
   "outputs": [
    {
     "name": "stdout",
     "output_type": "stream",
     "text": [
      "[Row: 1 Col: 1 val: b\n",
      ", Row: 3 Col: 1 val: c\n",
      ", Row: 2 Col: 0 val: a\n",
      ", Row: 2 Col: 2 val: a\n",
      "]\n"
     ]
    }
   ],
   "source": [
    "A[2][2].neighbors\n",
    "print(A[2][1].neighbors)"
   ]
  },
  {
   "cell_type": "code",
   "execution_count": 497,
   "metadata": {},
   "outputs": [
    {
     "data": {
      "text/plain": [
       "97"
      ]
     },
     "execution_count": 497,
     "metadata": {},
     "output_type": "execute_result"
    }
   ],
   "source": [
    "ord('a')"
   ]
  }
 ],
 "metadata": {
  "kernelspec": {
   "display_name": "base",
   "language": "python",
   "name": "python3"
  },
  "language_info": {
   "codemirror_mode": {
    "name": "ipython",
    "version": 3
   },
   "file_extension": ".py",
   "mimetype": "text/x-python",
   "name": "python",
   "nbconvert_exporter": "python",
   "pygments_lexer": "ipython3",
   "version": "3.9.13"
  },
  "orig_nbformat": 4,
  "vscode": {
   "interpreter": {
    "hash": "7672c032c71307a9d2e2de933bc31a203109ac0f3b59d326ba27acf02560982c"
   }
  }
 },
 "nbformat": 4,
 "nbformat_minor": 2
}
