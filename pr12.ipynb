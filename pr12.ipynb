{
 "cells": [
  {
   "cell_type": "code",
   "execution_count": 23,
   "metadata": {},
   "outputs": [],
   "source": [
    "# from aocd import get_data\n",
    "\n",
    "# YEAR = 2022\n",
    "# DAY = 12\n",
    "\n",
    "# dat = get_data(day=DAY,year=YEAR)\n",
    "\n",
    "# with open('input/12','w') as f:\n",
    "#     f.write(dat)\n",
    "\n",
    "\n",
    "\n",
    "# f.close()\n",
    "\n",
    "# with open('input/12.test','w') as f:\n",
    "#     f.write('')\n",
    "# f.close()"
   ]
  },
  {
   "cell_type": "code",
   "execution_count": 24,
   "metadata": {},
   "outputs": [],
   "source": [
    "class Cell:\n",
    "    def __init__(self, row, col, value):\n",
    "        self.value = value\n",
    "        self.row = row\n",
    "        self.col = col\n",
    "        self.neighbors = []\n",
    "\n",
    "    def add_neighbor(self, cell):\n",
    "\n",
    "        self.neighbors.append(cell)\n",
    "    \n",
    "    \n",
    "        "
   ]
  },
  {
   "cell_type": "code",
   "execution_count": 33,
   "metadata": {},
   "outputs": [
    {
     "data": {
      "text/plain": [
       "97"
      ]
     },
     "execution_count": 33,
     "metadata": {},
     "output_type": "execute_result"
    }
   ],
   "source": []
  },
  {
   "cell_type": "code",
   "execution_count": 29,
   "metadata": {},
   "outputs": [],
   "source": [
    "class CellMap:\n",
    "    def __init__(self, rows, cols):\n",
    "        self.rows = rows\n",
    "        self.cols = cols\n",
    "        self.grid = [[Cell(row, col) for col in range(cols)] for row in range(rows)]\n",
    "\n",
    "        for row in range(rows):\n",
    "            for col in range(cols):\n",
    "                cell = self.grid[row][col]\n",
    "                if row > 0:\n",
    "                    cell.add_neighbor(self.grid[row - 1][col])\n",
    "                if row < rows - 1:\n",
    "                    cell.add_neighbor(self.grid[row + 1][col])\n",
    "                if col > 0:\n",
    "                    cell.add_neighbor(self.grid[row][col - 1])\n",
    "                if col < cols - 1:\n",
    "                    cell.add_neighbor(self.grid[row][col + 1])\n",
    "    def __getitem__(self, index):\n",
    "        return self.grid[index]"
   ]
  },
  {
   "cell_type": "code",
   "execution_count": 32,
   "metadata": {},
   "outputs": [
    {
     "data": {
      "text/plain": [
       "[<__main__.Cell at 0x1b66e072100>,\n",
       " <__main__.Cell at 0x1b66e2b1820>,\n",
       " <__main__.Cell at 0x1b66e072610>]"
      ]
     },
     "execution_count": 32,
     "metadata": {},
     "output_type": "execute_result"
    }
   ],
   "source": [
    "A = CellMap(3,3)\n",
    "\n"
   ]
  }
 ],
 "metadata": {
  "kernelspec": {
   "display_name": "base",
   "language": "python",
   "name": "python3"
  },
  "language_info": {
   "codemirror_mode": {
    "name": "ipython",
    "version": 3
   },
   "file_extension": ".py",
   "mimetype": "text/x-python",
   "name": "python",
   "nbconvert_exporter": "python",
   "pygments_lexer": "ipython3",
   "version": "3.9.13"
  },
  "orig_nbformat": 4,
  "vscode": {
   "interpreter": {
    "hash": "7672c032c71307a9d2e2de933bc31a203109ac0f3b59d326ba27acf02560982c"
   }
  }
 },
 "nbformat": 4,
 "nbformat_minor": 2
}
