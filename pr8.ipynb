{
 "cells": [
  {
   "cell_type": "code",
   "execution_count": 121,
   "metadata": {},
   "outputs": [],
   "source": [
    "from aocd import get_data\n",
    "\n",
    "YEAR = 2022\n",
    "DAY = 8\n",
    "\n",
    "dat = get_data(day=DAY,year=YEAR)\n",
    "\n",
    "with open('input/8','w') as f:\n",
    "    f.write(dat)\n",
    "\n",
    "f.close()\n"
   ]
  },
  {
   "cell_type": "code",
   "execution_count": 9,
   "metadata": {},
   "outputs": [],
   "source": [
    "with open('input/8') as f:\n",
    "    dat = f.read()"
   ]
  },
  {
   "cell_type": "code",
   "execution_count": 122,
   "metadata": {},
   "outputs": [
    {
     "name": "stdout",
     "output_type": "stream",
     "text": [
      "[[0 1 2 ... 2 0 2]\n",
      " [1 0 2 ... 0 2 1]\n",
      " [2 2 2 ... 2 0 1]\n",
      " ...\n",
      " [0 0 1 ... 0 2 1]\n",
      " [2 1 2 ... 2 1 2]\n",
      " [1 1 0 ... 0 1 0]]\n"
     ]
    }
   ],
   "source": [
    "import numpy as np\n",
    "\n",
    "A = np.array([[int(x) for x in i] for i in dat.split('\\n')])\n",
    "print(A)"
   ]
  },
  {
   "cell_type": "code",
   "execution_count": 123,
   "metadata": {},
   "outputs": [
    {
     "name": "stdout",
     "output_type": "stream",
     "text": [
      "[[ True  True  True ...  True  True  True]\n",
      " [ True False False ... False  True False]\n",
      " [ True  True False ... False False False]\n",
      " ...\n",
      " [False False False ... False False False]\n",
      " [False False False ... False False False]\n",
      " [False False False ... False False False]]\n"
     ]
    }
   ],
   "source": [
    "# Check a side and create boolean map which can be seen\n",
    "def createSeen(A):\n",
    "    xSize = np.size(A,0)\n",
    "    ySize = np.size(A,1)\n",
    "    lHeight = np.array([-1]*xSize)\n",
    "    isSeen = A ==-1\n",
    "    for i in range(ySize):\n",
    "        isSeen[i] = (A[i] > lHeight)\n",
    "        lHeight = np.maximum(A[i],lHeight)\n",
    "\n",
    "    return isSeen\n",
    "\n",
    "print(createSeen(A))"
   ]
  },
  {
   "cell_type": "code",
   "execution_count": 124,
   "metadata": {},
   "outputs": [
    {
     "name": "stdout",
     "output_type": "stream",
     "text": [
      "Problem 1 Solution: 1825\n"
     ]
    }
   ],
   "source": [
    "isSeen = A ==-1\n",
    "for i in range(4):\n",
    "    # rotate input i times then rotate output back\n",
    "    seenMat = np.rot90(createSeen(np.rot90(A,i)),-i)\n",
    "    isSeen = np.logical_or(isSeen, seenMat)\n",
    "\n",
    "print(f'Problem 1 Solution: {np.sum(isSeen)}')"
   ]
  },
  {
   "cell_type": "code",
   "execution_count": 125,
   "metadata": {},
   "outputs": [],
   "source": [
    "def calcSeen(v):\n",
    "    tot =0\n",
    "    for i in v[-2::-1]:\n",
    "        if i < v[-1]:\n",
    "            tot = tot+1\n",
    "        else:\n",
    "            return tot+1\n",
    "    return tot"
   ]
  },
  {
   "cell_type": "code",
   "execution_count": 130,
   "metadata": {},
   "outputs": [
    {
     "name": "stdout",
     "output_type": "stream",
     "text": [
      "Problem 2: 235200\n"
     ]
    }
   ],
   "source": [
    "# Problem 2\n",
    "\n",
    "\n",
    "xSize = np.size(A,0)\n",
    "ySize = np.size(A,1)\n",
    "\n",
    "maxVal = 0\n",
    "\n",
    "for i in range(1,xSize-1):\n",
    "    for j in range(1,ySize-1):\n",
    "        # verticle 2 ways\n",
    "        s = 1\n",
    "        s = s* calcSeen(A[0:i+1,j])\n",
    "        s = s* calcSeen(A[:i-1:-1,j])\n",
    "        # horizontal\n",
    "        s = s* calcSeen(A[i,0:j+1])\n",
    "        s = s* calcSeen(A[i,:j-1:-1])\n",
    "        maxVal = max([s,maxVal])\n",
    "\n",
    "print(f'Problem 2: {maxVal}')"
   ]
  }
 ],
 "metadata": {
  "kernelspec": {
   "display_name": "Python 3.9.13 ('base')",
   "language": "python",
   "name": "python3"
  },
  "language_info": {
   "codemirror_mode": {
    "name": "ipython",
    "version": 3
   },
   "file_extension": ".py",
   "mimetype": "text/x-python",
   "name": "python",
   "nbconvert_exporter": "python",
   "pygments_lexer": "ipython3",
   "version": "3.9.13"
  },
  "orig_nbformat": 4,
  "vscode": {
   "interpreter": {
    "hash": "7672c032c71307a9d2e2de933bc31a203109ac0f3b59d326ba27acf02560982c"
   }
  }
 },
 "nbformat": 4,
 "nbformat_minor": 2
}
