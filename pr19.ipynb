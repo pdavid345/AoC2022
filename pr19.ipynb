{
 "cells": [
  {
   "cell_type": "code",
   "execution_count": 133,
   "metadata": {},
   "outputs": [],
   "source": [
    "from aocd import get_data\n",
    "\n",
    "YEAR = 2022\n",
    "DAY = 19\n",
    "\n",
    "dat = get_data(day=DAY,year=YEAR)\n",
    "\n",
    "with open('input/19','w') as f:\n",
    "    f.write(dat)\n",
    "\n",
    "f.close()"
   ]
  },
  {
   "cell_type": "code",
   "execution_count": 134,
   "metadata": {},
   "outputs": [
    {
     "name": "stdout",
     "output_type": "stream",
     "text": [
      "[[1, 4, 2, 3, 14, 2, 7], [2, 2, 3, 3, 8, 3, 12]]\n"
     ]
    }
   ],
   "source": [
    "with open('input/19.test') as f:\n",
    "    dat =  f.read().split('\\n')\n",
    "\n",
    "import regex as re\n",
    "\n",
    "data = []\n",
    "for l in dat:\n",
    "    data.append([int(i) for i in re.findall('\\d+',l)])\n",
    "print(data)"
   ]
  },
  {
   "cell_type": "code",
   "execution_count": 135,
   "metadata": {},
   "outputs": [],
   "source": [
    "import numpy as np\n",
    "\n",
    "def gather(s,t):\n",
    "    state = [0,0,0,0]\n",
    "    state[0] += s[4]\n",
    "    state[1] += s[5]\n",
    "    state[2] += s[6]\n",
    "    state[3] += s[7]\n",
    "    return state\n",
    "\n",
    "def canBuildGeo(state,t):\n",
    "    return (state[0] >= t[5] and state[2] >= t[6])\n",
    "\n",
    "def canBuildObs(state,t):\n",
    "    return (state[0] >= t[3] and state[1] >= t[4])\n",
    "\n",
    "def canBuildCl(state,t):\n",
    "    return (state[0] >= t[2])\n",
    "\n",
    "def canBuildOre(state,t):\n",
    "    return (state[0] >= t[1])\n",
    "\n",
    "\n",
    "def buildOre(s,t):\n",
    "    state = np.array(s)\n",
    "    state +=[-t[1],0,0,0, 1,0,0,0,0]   \n",
    "    return list(state)\n",
    "\n",
    "def buildCl(s,t):\n",
    "    state = np.array(s)\n",
    "    state +=[-t[2],0,0,0, 0,1,0,0,0] \n",
    "    return list(state)\n",
    "   \n",
    "\n",
    "def buildObs(s,t):\n",
    "    state = np.array(s)\n",
    "    state +=[-t[3],-t[4],0,0, 0,0,1,0,0]    \n",
    "    return list(state)\n",
    "\n",
    "\n",
    "def buildGeo(s,t):\n",
    "    state = np.array(s)\n",
    "    state +=[-t[5],0,-t[6],0, 0,0,0,1,0]\n",
    "    return list(state)\n",
    "\n",
    "\n"
   ]
  },
  {
   "cell_type": "code",
   "execution_count": 136,
   "metadata": {},
   "outputs": [
    {
     "name": "stdout",
     "output_type": "stream",
     "text": [
      "[1, 4, 2, 3, 14, 2, 7]\n",
      "9\n",
      "[2, 2, 3, 3, 8, 3, 12]\n",
      "24\n"
     ]
    }
   ],
   "source": [
    "totSum = 0\n",
    "for t in data:\n",
    "    print(t)\n",
    "    games = []\n",
    "    games.append([0,0,0,0, 1,0,0,0, 1])\n",
    "    games.append([0,0,0,0, 1,0,0,0, 2])\n",
    "\n",
    "    for i in range(24):\n",
    "        # print(f'time: {i+1}')\n",
    "        gNew = []\n",
    "        for A in games:\n",
    "\n",
    "\n",
    "\n",
    "\n",
    "            gNewNew = []\n",
    "            Agather = gather(A,t)\n",
    "            # print(A)\n",
    "            # print(Agather)\n",
    "\n",
    "            if(canBuildGeo(A,t) and A[-1] == 4):\n",
    "                # print('building Geo')\n",
    "                gNewNew.append(buildGeo(A,t))\n",
    "\n",
    "            elif(canBuildObs(A,t) and A[-1] == 3):\n",
    "                # print('building Obs')\n",
    "\n",
    "                gNewNew.append(buildObs(A,t))\n",
    "\n",
    "            elif(canBuildCl(A,t) and A[-1] == 2):\n",
    "                # print('building Cl')\n",
    "                # print(f't: {t}')\n",
    "                # print(f'A: \\t\\t{A}')\n",
    "                gNewNew.append(buildCl(A,t))\n",
    "                # print(f'A after: \\t{gNewNew[-1]}')\n",
    "\n",
    "            elif(canBuildOre(A,t) and A[-1] == 1):\n",
    "                # print('building Ore')\n",
    "\n",
    "                gNewNew.append(buildOre(A,t))\n",
    "\n",
    "            else:\n",
    "                A[0] += Agather[0]\n",
    "                A[1] += Agather[1]\n",
    "                A[2] += Agather[2]\n",
    "                A[3] += Agather[3]\n",
    "                gNew.append(A)\n",
    "\n",
    "            for g in gNewNew:\n",
    "                g[0] += Agather[0]\n",
    "                g[1] += Agather[1]\n",
    "                g[2] += Agather[2]\n",
    "                g[3] += Agather[3]\n",
    "\n",
    "                tm = g.copy()\n",
    "                tm[-1] = 1\n",
    "                gNew.append(tm)\n",
    "                tm = g.copy()\n",
    "                tm[-1] = 2\n",
    "                gNew.append(tm)\n",
    "\n",
    "                if(g[5] >0):\n",
    "                    tm = g.copy()\n",
    "                    tm[-1] = 3\n",
    "                    gNew.append(tm)\n",
    "\n",
    "                if(g[6] >0):\n",
    "                    tm = g.copy()\n",
    "                    tm[-1] = 4\n",
    "                    gNew.append(tm)\n",
    "\n",
    "        # print(f'states after time {i}: {len(gNew)}')\n",
    "        # print(gNew)\n",
    "\n",
    "\n",
    "        games = gNew\n",
    "        # print(f'games: {len(games)}')\n",
    "        maxGeo = max([g[7] for g in games])\n",
    "        maxGeoCount = max([g[3] for g in games])\n",
    "\n",
    "        games = [g for g in games if g[7]==maxGeo]\n",
    "        games = [g for g in games if g[3]==maxGeoCount]\n",
    "\n",
    "        # maxObs = max([g[6] for g in games])\n",
    "        # if(maxObs == 1):\n",
    "        #     games = [g for g in games if g[6]==maxObs]\n",
    "        \n",
    "        # maxCl = max([g[5] for g in games])\n",
    "        # if(maxCl == 1):\n",
    "        #     games = [g for g in games if g[5]==maxCl]\n",
    "        \n",
    "        # for g in games:\n",
    "        #     print(g)\n",
    "    print(t[0]*max([g[3] for g in games]))\n",
    "    totSum += t[0]*max([g[3] for g in games])\n",
    "\n",
    "\n"
   ]
  },
  {
   "cell_type": "code",
   "execution_count": 137,
   "metadata": {},
   "outputs": [
    {
     "name": "stdout",
     "output_type": "stream",
     "text": [
      "[1, 4, 2, 3, 14, 2, 7]\n",
      "unobtainable, 0\n",
      "0\n",
      "[2, 2, 3, 3, 8, 3, 12]\n",
      "unobtainable, 0\n",
      "0\n"
     ]
    },
    {
     "data": {
      "text/plain": [
       "0"
      ]
     },
     "execution_count": 137,
     "metadata": {},
     "output_type": "execute_result"
    }
   ],
   "source": [
    "%reload_ext line_profiler\n",
    "# %lprun -f run -f buildCl -f buildGeo -f buildObs -f buildOre run(data)\n",
    "run(data)"
   ]
  },
  {
   "cell_type": "code",
   "execution_count": 138,
   "metadata": {},
   "outputs": [
    {
     "name": "stdout",
     "output_type": "stream",
     "text": [
      "33\n"
     ]
    }
   ],
   "source": [
    "print(totSum)"
   ]
  }
 ],
 "metadata": {
  "kernelspec": {
   "display_name": "base",
   "language": "python",
   "name": "python3"
  },
  "language_info": {
   "codemirror_mode": {
    "name": "ipython",
    "version": 3
   },
   "file_extension": ".py",
   "mimetype": "text/x-python",
   "name": "python",
   "nbconvert_exporter": "python",
   "pygments_lexer": "ipython3",
   "version": "3.9.13"
  },
  "orig_nbformat": 4,
  "vscode": {
   "interpreter": {
    "hash": "7672c032c71307a9d2e2de933bc31a203109ac0f3b59d326ba27acf02560982c"
   }
  }
 },
 "nbformat": 4,
 "nbformat_minor": 2
}
