{
 "cells": [
  {
   "cell_type": "code",
   "execution_count": 333,
   "metadata": {},
   "outputs": [],
   "source": [
    "from aocd import get_data\n",
    "\n",
    "YEAR = 2022\n",
    "DAY = 19\n",
    "\n",
    "dat = get_data(day=DAY,year=YEAR)\n",
    "\n",
    "with open('input/19','w') as f:\n",
    "    f.write(dat)\n",
    "\n",
    "f.close()"
   ]
  },
  {
   "cell_type": "code",
   "execution_count": 338,
   "metadata": {},
   "outputs": [
    {
     "name": "stdout",
     "output_type": "stream",
     "text": [
      "[[1, 4, 2, 3, 14, 2, 7], [2, 2, 3, 3, 8, 3, 12]]\n"
     ]
    }
   ],
   "source": [
    "with open('input/19.test') as f:\n",
    "    dat =  f.read().split('\\n')\n",
    "\n",
    "import regex as re\n",
    "\n",
    "data = []\n",
    "for l in dat:\n",
    "    data.append([int(i) for i in re.findall('\\d+',l)])\n",
    "print(data)"
   ]
  },
  {
   "cell_type": "code",
   "execution_count": 335,
   "metadata": {},
   "outputs": [],
   "source": [
    "import numpy as np\n",
    "\n",
    "def gather(s,t):\n",
    "    state = [0,0,0,0]\n",
    "    state[0] += s[4]\n",
    "    state[1] += s[5]\n",
    "    state[2] += s[6]\n",
    "    state[3] += s[7]\n",
    "    return state\n",
    "\n",
    "def canBuildGeo(state,t):\n",
    "    return (state[0] >= t[5] and state[2] >= t[6])\n",
    "\n",
    "def canBuildObs(state,t):\n",
    "    return (state[0] >= t[3] and state[1] >= t[4])\n",
    "\n",
    "def canBuildCl(state,t):\n",
    "    return (state[0] >= t[2])\n",
    "\n",
    "def canBuildOre(state,t):\n",
    "    return (state[0] >= t[1])\n",
    "\n",
    "\n",
    "def buildOre(s,t):\n",
    "    state = np.array(s)\n",
    "    state +=[-t[1],0,0,0, 1,0,0,0]   \n",
    "    return list(state)\n",
    "\n",
    "def buildCl(s,t):\n",
    "    state = np.array(s)\n",
    "    state +=[-t[2],0,0,0, 0,1,0,0] \n",
    "    return list(state)\n",
    "   \n",
    "\n",
    "def buildObs(s,t):\n",
    "    state = np.array(s)\n",
    "    state +=[-t[3],-t[4],0,0, 0,0,1,0]    \n",
    "    return list(state)\n",
    "\n",
    "\n",
    "def buildGeo(s,t):\n",
    "    state = np.array(s)\n",
    "    state +=[-t[5],0,-t[6],0, 0,0,0,1]\n",
    "    return list(state)\n",
    "\n",
    "\n"
   ]
  },
  {
   "cell_type": "code",
   "execution_count": 389,
   "metadata": {},
   "outputs": [
    {
     "name": "stdout",
     "output_type": "stream",
     "text": [
      "[1, 4, 2, 3, 14, 2, 7]\n",
      "43\n",
      "[2, 2, 3, 3, 8, 3, 12]\n",
      "62\n",
      "105\n"
     ]
    }
   ],
   "source": [
    "import random\n",
    "totSum = 0\n",
    "for t in data:\n",
    "    maxGeo  = 0\n",
    "    print(t)\n",
    "    for j in range(10000):\n",
    "        A = [0,0,0,0, 1,0,0,0]\n",
    "        for i in range(32):\n",
    "\n",
    "            Agather = gather(A,t)\n",
    "            weights = [1,0,0,0,0]\n",
    "            pull = [0,1,2,3,4]\n",
    "\n",
    "\n",
    "            if(canBuildGeo(A,t)):\n",
    "                # print('building Geo')\n",
    "                weights[4] = 500\n",
    "                # gNewNew.append(buildGeo(A,t))\n",
    "\n",
    "\n",
    "            if(canBuildObs(A,t)):\n",
    "                # print('bulding Obs')\n",
    "                weights[3] = 200\n",
    "                # gNewNew.append(buildObs(A,t))\n",
    "\n",
    "            if(canBuildCl(A,t)):\n",
    "                # print('building Cl')\n",
    "                # print(f't: {t}')\n",
    "                # print(f'A: \\t\\t{A}')\n",
    "                weights[2] = 20\n",
    "                # gNewNew.append(buildCl(A,t))\n",
    "                # print(f'A after: \\t{gNewNew[-1]}')\n",
    "\n",
    "            if(canBuildOre(A,t)):\n",
    "                weights[1] = 10\n",
    "                # print('building Ore')\n",
    "\n",
    "                # gNewNew.append(buildOre(A,t))\n",
    "\n",
    "            A[0] += Agather[0]\n",
    "            A[1] += Agather[1]\n",
    "            A[2] += Agather[2]\n",
    "            A[3] += Agather[3]\n",
    "            # print(f'A: {A}')\n",
    "            # print(weights)\n",
    "            res = (random.choices(pull,weights=weights)[0])\n",
    "            # print(res)\n",
    "\n",
    "            if(res == 1):\n",
    "                A = buildOre(A,t)\n",
    "            \n",
    "            elif(res == 2):\n",
    "                A = buildCl(A,t)\n",
    "\n",
    "            if(res == 3):\n",
    "                A = buildObs(A,t)\n",
    "\n",
    "            if(res == 4):\n",
    "                A = buildGeo(A,t)\n",
    "        # print(A)\n",
    "\n",
    "        maxGeo = max(maxGeo, A[3])\n",
    "    print(maxGeo)\n",
    "    totSum += maxGeo\n",
    "print(totSum)\n",
    "    \n"
   ]
  }
 ],
 "metadata": {
  "kernelspec": {
   "display_name": "base",
   "language": "python",
   "name": "python3"
  },
  "language_info": {
   "codemirror_mode": {
    "name": "ipython",
    "version": 3
   },
   "file_extension": ".py",
   "mimetype": "text/x-python",
   "name": "python",
   "nbconvert_exporter": "python",
   "pygments_lexer": "ipython3",
   "version": "3.9.13"
  },
  "orig_nbformat": 4,
  "vscode": {
   "interpreter": {
    "hash": "7672c032c71307a9d2e2de933bc31a203109ac0f3b59d326ba27acf02560982c"
   }
  }
 },
 "nbformat": 4,
 "nbformat_minor": 2
}
