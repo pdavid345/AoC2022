{
 "cells": [
  {
   "cell_type": "code",
   "execution_count": 1,
   "metadata": {},
   "outputs": [],
   "source": [
    "from aocd import get_data\n",
    "\n",
    "YEAR = 2022\n",
    "DAY = 13\n",
    "\n",
    "dat = get_data(day=DAY,year=YEAR)\n",
    "\n",
    "with open('input/13','w') as f:\n",
    "    f.write(dat)\n",
    "\n",
    "f.close()\n"
   ]
  },
  {
   "cell_type": "code",
   "execution_count": 8,
   "metadata": {},
   "outputs": [
    {
     "name": "stdout",
     "output_type": "stream",
     "text": [
      "['[1,1,3,1,1]', '[1,1,5,1,1]', '', '[[1],[2,3,4]]', '[[1],4]', '', '[9]', '[[8,7,6]]', '', '[[4,4],4,4]', '[[4,4],4,4,4]', '', '[7,7,7,7]', '[7,7,7]', '', '[]', '[3]', '', '[[[]]]', '[[]]', '', '[1,[2,[3,[4,[5,6,7]]]],8,9]', '[1,[2,[3,[4,[5,6,0]]]],8,9]']\n"
     ]
    }
   ],
   "source": [
    "with open('input/13.test') as f:\n",
    "    dat = f.read().split('\\n')\n",
    "\n",
    "import numpy as np\n",
    "\n",
    "print(dat)\n"
   ]
  },
  {
   "cell_type": "code",
   "execution_count": 64,
   "metadata": {},
   "outputs": [],
   "source": [
    "def compare(A,B):\n",
    "    print(f'compare {A} and {B}')\n",
    "    #returns if A and B are in order\n",
    "    if type(A) == int and type(B) == int:\n",
    "        if(A<B):\n",
    "            return True\n",
    "        elif (B < A):\n",
    "            return False\n",
    "        else:\n",
    "            return None\n",
    "    \n",
    "    if type(A) == int and type(B) == list:\n",
    "        print(A)\n",
    "        return compare([A],B)\n",
    "    \n",
    "    if type(A) == list and type(B) == int:\n",
    "        print(A)\n",
    "        return compare(A,[B])\n",
    "\n",
    "    if type(A) == list and type(B) == list:\n",
    "        print('both lists')\n",
    "        idx = 0\n",
    "        try:\n",
    "            Atmp = A[idx]\n",
    "        except:\n",
    "            return True\n",
    "\n",
    "            \n",
    "        try:\n",
    "            Btmp = B[idx]\n",
    "        except:\n",
    "            return False\n",
    "        print(compare(Atmp,Btmp))\n",
    "        if (compare(Atmp,Btmp) is not None):\n",
    "            return compare(Atmp, Btmp)\n",
    "        return compare(A[1:],B[1:])\n",
    "\n",
    "\n",
    "    "
   ]
  },
  {
   "cell_type": "code",
   "execution_count": 66,
   "metadata": {},
   "outputs": [
    {
     "name": "stdout",
     "output_type": "stream",
     "text": [
      "[1,1,3,1,1]\n",
      "[1,1,5,1,1]\n",
      "compare [1,1,3,1,1] and [1,1,5,1,1]\n"
     ]
    }
   ],
   "source": [
    "A = dat[0]\n",
    "B = dat[1]\n",
    "print(A)\n",
    "print(B)\n",
    "\n",
    "compare(A,B)"
   ]
  }
 ],
 "metadata": {
  "kernelspec": {
   "display_name": "base",
   "language": "python",
   "name": "python3"
  },
  "language_info": {
   "codemirror_mode": {
    "name": "ipython",
    "version": 3
   },
   "file_extension": ".py",
   "mimetype": "text/x-python",
   "name": "python",
   "nbconvert_exporter": "python",
   "pygments_lexer": "ipython3",
   "version": "3.9.13"
  },
  "orig_nbformat": 4,
  "vscode": {
   "interpreter": {
    "hash": "7672c032c71307a9d2e2de933bc31a203109ac0f3b59d326ba27acf02560982c"
   }
  }
 },
 "nbformat": 4,
 "nbformat_minor": 2
}
