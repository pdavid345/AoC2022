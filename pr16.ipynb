{
 "cells": [
  {
   "cell_type": "code",
   "execution_count": 1,
   "metadata": {},
   "outputs": [],
   "source": [
    "from aocd import get_data\n",
    "\n",
    "YEAR = 2022\n",
    "DAY = 16\n",
    "\n",
    "dat = get_data(day=DAY,year=YEAR)\n",
    "\n",
    "with open('input/16','w') as f:\n",
    "    f.write(dat)\n",
    "\n",
    "f.close()"
   ]
  },
  {
   "cell_type": "code",
   "execution_count": 17,
   "metadata": {},
   "outputs": [
    {
     "name": "stdout",
     "output_type": "stream",
     "text": [
      "{'AA': 0, 'BB': 13, 'CC': 2, 'DD': 20, 'EE': 3, 'FF': 0, 'GG': 0, 'HH': 22, 'II': 0, 'JJ': 21}\n",
      "{'AA': ['DD', 'II', 'BB'], 'BB': ['CC', 'AA'], 'CC': ['DD', 'BB'], 'DD': ['CC', 'AA', 'EE'], 'EE': ['FF', 'DD'], 'FF': ['EE', 'GG'], 'GG': ['FF', 'HH'], 'HH': ['GG'], 'II': ['AA', 'JJ'], 'JJ': ['II']}\n"
     ]
    }
   ],
   "source": [
    "import regex as re\n",
    "\n",
    "with open('input/16.test') as f:\n",
    "    dat = f.read().split('\\n')\n",
    "\n",
    "valves = dict()\n",
    "flows = dict()\n",
    "for l in dat:\n",
    "    v = re.findall('[A-Z]{2}',l)\n",
    "    \n",
    "    flows[v[0]] = [int(i) for i in re.findall('\\d+',l)][0]\n",
    "    valves[v[0]] = v[1:]\n",
    "\n",
    "print(flows)\n",
    "print(valves)\n",
    "\n"
   ]
  }
 ],
 "metadata": {
  "kernelspec": {
   "display_name": "base",
   "language": "python",
   "name": "python3"
  },
  "language_info": {
   "codemirror_mode": {
    "name": "ipython",
    "version": 3
   },
   "file_extension": ".py",
   "mimetype": "text/x-python",
   "name": "python",
   "nbconvert_exporter": "python",
   "pygments_lexer": "ipython3",
   "version": "3.9.13"
  },
  "orig_nbformat": 4,
  "vscode": {
   "interpreter": {
    "hash": "7672c032c71307a9d2e2de933bc31a203109ac0f3b59d326ba27acf02560982c"
   }
  }
 },
 "nbformat": 4,
 "nbformat_minor": 2
}
