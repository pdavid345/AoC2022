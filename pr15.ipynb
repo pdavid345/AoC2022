{
 "cells": [
  {
   "cell_type": "code",
   "execution_count": 351,
   "metadata": {},
   "outputs": [],
   "source": [
    "from aocd import get_data\n",
    "\n",
    "YEAR = 2022\n",
    "DAY = 15\n",
    "\n",
    "dat = get_data(day=DAY,year=YEAR)\n",
    "\n",
    "with open('input/15','w') as f:\n",
    "    f.write(dat)\n",
    "\n",
    "f.close()"
   ]
  },
  {
   "cell_type": "code",
   "execution_count": 352,
   "metadata": {},
   "outputs": [],
   "source": [
    "import regex as re\n",
    "with open('input/15') as f:\n",
    "    dat = re.findall('=(-*\\d+)',f.read())\n",
    "\n",
    "\n",
    "pos = []\n",
    "beaconList = []\n",
    "for i,l in enumerate(dat[::4]):\n",
    "    a = (int(dat[i*4]),int(dat[i*4+1]),abs(int(dat[i*4]) - int(dat[i*4+2])) + abs(int(dat[i*4+1]) - int(dat[i*4+3])))\n",
    "    beaconList.append((int(dat[i*4+2]),int(dat[i*4+3])))\n",
    "    pos.append(a)\n"
   ]
  },
  {
   "cell_type": "code",
   "execution_count": 353,
   "metadata": {},
   "outputs": [],
   "source": [
    "def getCovered(pos,Y,beaconList):\n",
    "    ranges = []\n",
    "\n",
    "    for p in pos:\n",
    "        rem = p[2] -  abs(p[1] - Y)\n",
    "        if(rem > 0):  #current position covers at least some in thhat Y level\n",
    "            # print(p)\n",
    "            # print(rem)\n",
    "            # print((p[0] -rem, p[0] + rem ))\n",
    "            ranges.append((p[0] -rem, p[0] + rem ))\n",
    "    S = set()\n",
    "    for r in ranges:\n",
    "        S.update(set(list(range(r[0],r[1]+1))))\n",
    "\n",
    "    for b in beaconList:\n",
    "        if(b[1] == Y):\n",
    "            if(b[0] in S):\n",
    "                S.remove(b[0])\n",
    "    # print(S)\n",
    "    print(len(S))"
   ]
  },
  {
   "cell_type": "code",
   "execution_count": 354,
   "metadata": {},
   "outputs": [
    {
     "name": "stdout",
     "output_type": "stream",
     "text": [
      "5878678\n"
     ]
    }
   ],
   "source": [
    "Y = 2000000\n",
    "\n",
    "getCovered(pos,Y,beaconList)\n",
    "\n"
   ]
  },
  {
   "cell_type": "code",
   "execution_count": 355,
   "metadata": {},
   "outputs": [],
   "source": [
    "def manDistCovered(pos,p2):\n",
    "    return(pos[2] - (abs(pos[0] - p2[0]) + abs(pos[1] - p2[1])) +1 > 0)\n",
    "\n",
    "\n",
    "\n",
    "def getCoveredp2(pos,startPos,scanLim,step,beaconList):\n",
    "    notCovered = []\n",
    "    for X in list(range(startPos[0],scanLim[0],step)):\n",
    "        for Y in list(range(startPos[1],scanLim[1],step)):\n",
    "            # print(X,Y)\n",
    "            corners = [(X,Y),(X+step-1,Y),(X,Y+step-1),(X+step-1,Y+step-1)]\n",
    "            \n",
    "            covPos = False\n",
    "            for p in pos:\n",
    "                cov = True\n",
    "                for c in corners:\n",
    "                    cov = cov and (manDistCovered(p,c))\n",
    "                covPos = covPos or cov\n",
    "                if(covPos):\n",
    "                #     print(f'X: {X}, Y: {Y} covered by {p}')\n",
    "                    break\n",
    "            if not covPos:\n",
    "                # print(f'X: {X}, Y: {Y} not covered')\n",
    "                notCovered.append((X,Y))\n",
    "    # print(f'{len(notCovered)} out of {len(list(range(startPos[0],scanLim[0],step))) * len(list(range(startPos[1],scanLim[1],step)))} not covered')\n",
    "    return notCovered\n"
   ]
  },
  {
   "cell_type": "code",
   "execution_count": 363,
   "metadata": {},
   "outputs": [
    {
     "name": "stdout",
     "output_type": "stream",
     "text": [
      "Step = 400000\n"
     ]
    }
   ],
   "source": [
    "def enhance(nc,step,stepOld):\n",
    "    ncnew = []\n",
    "    print(f'Step = {step}')\n",
    "    for i in nc:\n",
    "        xl = i[0]+stepOld\n",
    "        yl = i[1]+stepOld\n",
    "        ncnew.extend(getCoveredp2(pos,i,(xl,yl),step,beaconList))\n",
    "        sd = len(list(range(i[0],xl,step))) * len(list(range(i[1],yl,step)))\n",
    "    print(f'{len(ncnew) } out of {len(nc) * sd } not covered')\n",
    "    # print(ncnew)\n",
    "    return ncnew\n",
    "\n",
    "\n",
    "\n",
    "import math\n",
    "lim = 4000000\n",
    "startPos = (0,0)\n",
    "scanLim = (lim,lim)\n",
    "step = 400000\n",
    "print(f'Step = {step}')\n",
    "nc = (getCoveredp2(pos,startPos,scanLim,step,beaconList))\n",
    "\n",
    "\n"
   ]
  },
  {
   "cell_type": "code",
   "execution_count": 364,
   "metadata": {},
   "outputs": [
    {
     "name": "stdout",
     "output_type": "stream",
     "text": [
      "Step = 40000\n",
      "49 out of 3000 not covered\n"
     ]
    }
   ],
   "source": [
    "nc = enhance(nc,40000,400000)\n"
   ]
  },
  {
   "cell_type": "code",
   "execution_count": 365,
   "metadata": {},
   "outputs": [
    {
     "name": "stdout",
     "output_type": "stream",
     "text": [
      "Step = 4000\n",
      "307 out of 4900 not covered\n"
     ]
    }
   ],
   "source": [
    "nc = enhance(nc,4000,40000)"
   ]
  },
  {
   "cell_type": "code",
   "execution_count": 366,
   "metadata": {},
   "outputs": [
    {
     "name": "stdout",
     "output_type": "stream",
     "text": [
      "Step = 400\n",
      "2407 out of 30700 not covered\n"
     ]
    }
   ],
   "source": [
    "nc = enhance(nc,400,4000)"
   ]
  },
  {
   "cell_type": "code",
   "execution_count": 367,
   "metadata": {},
   "outputs": [
    {
     "name": "stdout",
     "output_type": "stream",
     "text": [
      "Step = 40\n",
      "23921 out of 240700 not covered\n"
     ]
    }
   ],
   "source": [
    "nc = enhance(nc,40,400)"
   ]
  },
  {
   "cell_type": "code",
   "execution_count": 370,
   "metadata": {},
   "outputs": [
    {
     "name": "stdout",
     "output_type": "stream",
     "text": [
      "Step = 4\n",
      "239025 out of 2392100 not covered\n"
     ]
    }
   ],
   "source": [
    "nc = enhance(nc,4,40)"
   ]
  },
  {
   "cell_type": "code",
   "execution_count": 372,
   "metadata": {},
   "outputs": [
    {
     "name": "stdout",
     "output_type": "stream",
     "text": [
      "Step = 1\n",
      "1 out of 3824400 not covered\n"
     ]
    }
   ],
   "source": [
    "nc = enhance(nc,1,4)"
   ]
  },
  {
   "cell_type": "code",
   "execution_count": 375,
   "metadata": {},
   "outputs": [
    {
     "name": "stdout",
     "output_type": "stream",
     "text": [
      "11796491041245\n"
     ]
    }
   ],
   "source": [
    "print(nc[0][0] * 4000000 + nc[0][1])\n"
   ]
  }
 ],
 "metadata": {
  "kernelspec": {
   "display_name": "base",
   "language": "python",
   "name": "python3"
  },
  "language_info": {
   "codemirror_mode": {
    "name": "ipython",
    "version": 3
   },
   "file_extension": ".py",
   "mimetype": "text/x-python",
   "name": "python",
   "nbconvert_exporter": "python",
   "pygments_lexer": "ipython3",
   "version": "3.9.13"
  },
  "orig_nbformat": 4,
  "vscode": {
   "interpreter": {
    "hash": "7672c032c71307a9d2e2de933bc31a203109ac0f3b59d326ba27acf02560982c"
   }
  }
 },
 "nbformat": 4,
 "nbformat_minor": 2
}
