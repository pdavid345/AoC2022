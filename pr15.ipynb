{
 "cells": [
  {
   "cell_type": "code",
   "execution_count": 146,
   "metadata": {},
   "outputs": [],
   "source": [
    "from aocd import get_data\n",
    "\n",
    "YEAR = 2022\n",
    "DAY = 15\n",
    "\n",
    "dat = get_data(day=DAY,year=YEAR)\n",
    "\n",
    "with open('input/15','w') as f:\n",
    "    f.write(dat)\n",
    "\n",
    "f.close()"
   ]
  },
  {
   "cell_type": "code",
   "execution_count": 147,
   "metadata": {},
   "outputs": [],
   "source": [
    "import regex as re\n",
    "with open('input/15') as f:\n",
    "    dat = re.findall('=(-*\\d+)',f.read())\n",
    "\n",
    "\n",
    "pos = []\n",
    "beaconList = []\n",
    "for i,l in enumerate(dat[::4]):\n",
    "    a = (int(dat[i*4]),int(dat[i*4+1]),abs(int(dat[i*4]) - int(dat[i*4+2])) + abs(int(dat[i*4+1]) - int(dat[i*4+3])))\n",
    "    beaconList.append((int(dat[i*4+2]),int(dat[i*4+3])))\n",
    "    pos.append(a)\n"
   ]
  },
  {
   "cell_type": "code",
   "execution_count": 148,
   "metadata": {},
   "outputs": [],
   "source": [
    "def getCovered(pos,Y,beaconList):\n",
    "    ranges = []\n",
    "\n",
    "    for p in pos:\n",
    "        rem = p[2] -  abs(p[1] - Y)\n",
    "        if(rem > 0):  #current position covers at least some in thhat Y level\n",
    "            # print(p)\n",
    "            # print(rem)\n",
    "            # print((p[0] -rem, p[0] + rem ))\n",
    "            ranges.append((p[0] -rem, p[0] + rem ))\n",
    "    S = set()\n",
    "    for r in ranges:\n",
    "        S.update(set(list(range(r[0],r[1]+1))))\n",
    "\n",
    "    for b in beaconList:\n",
    "        if(b[1] == Y):\n",
    "            if(b[0] in S):\n",
    "                S.remove(b[0])\n",
    "    # print(S)\n",
    "    print(len(S))"
   ]
  },
  {
   "cell_type": "code",
   "execution_count": 149,
   "metadata": {},
   "outputs": [
    {
     "name": "stdout",
     "output_type": "stream",
     "text": [
      "5878678\n"
     ]
    }
   ],
   "source": [
    "Y = 2000000\n",
    "\n",
    "getCovered(pos,Y,beaconList)\n",
    "\n"
   ]
  },
  {
   "cell_type": "code",
   "execution_count": 150,
   "metadata": {},
   "outputs": [],
   "source": [
    "def getCoveredp2(pos,lim,beaconList):\n",
    "    ranges = []\n",
    "\n",
    "    for Y in range(lim):\n",
    "        if(Y%10 ==0):\n",
    "            print(Y)\n",
    "        ranges =[]\n",
    "        # print(f'Y={Y}')\n",
    "        for p in pos:\n",
    "            rem = p[2] -  abs(p[1] - Y)\n",
    "            if(rem > 0):  #current position covers at least some in thhat Y level\n",
    "                if(p[0] + rem > 0 and p[0] - rem < lim):\n",
    "                    ranges.append((max(0,p[0] -rem), min(lim,p[0] + rem) ))\n",
    "        S = set()\n",
    "        for r in ranges:\n",
    "            S.update(set(list(range(r[0],r[1]+1))))\n",
    "        \n",
    "        # for b in beaconList:\n",
    "        #     if(b[1] == Y):\n",
    "        #         if(b[0] in S):\n",
    "        #             S.remove(b[0])\n",
    "        if(len(S) < lim+1):\n",
    "            Xpos = set(list(range(0,lim))).difference(S).pop()\n",
    "            print(f'Found! X = {Xpos} Y = {Y}, tuning = {Xpos * 4000000 + Y}')\n",
    "        # print(S)\n",
    "        # print(len(S))"
   ]
  },
  {
   "cell_type": "code",
   "execution_count": 151,
   "metadata": {},
   "outputs": [
    {
     "name": "stdout",
     "output_type": "stream",
     "text": [
      "0\n",
      "10\n",
      "20\n"
     ]
    },
    {
     "ename": "KeyboardInterrupt",
     "evalue": "",
     "output_type": "error",
     "traceback": [
      "\u001b[1;31m---------------------------------------------------------------------------\u001b[0m",
      "\u001b[1;31mKeyboardInterrupt\u001b[0m                         Traceback (most recent call last)",
      "\u001b[1;32m~\\AppData\\Local\\Temp\\ipykernel_5360\\2557872070.py\u001b[0m in \u001b[0;36m<module>\u001b[1;34m\u001b[0m\n\u001b[0;32m      1\u001b[0m \u001b[0mlim\u001b[0m \u001b[1;33m=\u001b[0m \u001b[1;36m4000000\u001b[0m\u001b[1;33m\u001b[0m\u001b[1;33m\u001b[0m\u001b[0m\n\u001b[1;32m----> 2\u001b[1;33m \u001b[0mgetCoveredp2\u001b[0m\u001b[1;33m(\u001b[0m\u001b[0mpos\u001b[0m\u001b[1;33m,\u001b[0m\u001b[0mlim\u001b[0m\u001b[1;33m,\u001b[0m\u001b[0mbeaconList\u001b[0m\u001b[1;33m)\u001b[0m\u001b[1;33m\u001b[0m\u001b[1;33m\u001b[0m\u001b[0m\n\u001b[0m",
      "\u001b[1;32m~\\AppData\\Local\\Temp\\ipykernel_5360\\4107134117.py\u001b[0m in \u001b[0;36mgetCoveredp2\u001b[1;34m(pos, lim, beaconList)\u001b[0m\n\u001b[0;32m     14\u001b[0m         \u001b[0mS\u001b[0m \u001b[1;33m=\u001b[0m \u001b[0mset\u001b[0m\u001b[1;33m(\u001b[0m\u001b[1;33m)\u001b[0m\u001b[1;33m\u001b[0m\u001b[1;33m\u001b[0m\u001b[0m\n\u001b[0;32m     15\u001b[0m         \u001b[1;32mfor\u001b[0m \u001b[0mr\u001b[0m \u001b[1;32min\u001b[0m \u001b[0mranges\u001b[0m\u001b[1;33m:\u001b[0m\u001b[1;33m\u001b[0m\u001b[1;33m\u001b[0m\u001b[0m\n\u001b[1;32m---> 16\u001b[1;33m             \u001b[0mS\u001b[0m\u001b[1;33m.\u001b[0m\u001b[0mupdate\u001b[0m\u001b[1;33m(\u001b[0m\u001b[0mset\u001b[0m\u001b[1;33m(\u001b[0m\u001b[0mlist\u001b[0m\u001b[1;33m(\u001b[0m\u001b[0mrange\u001b[0m\u001b[1;33m(\u001b[0m\u001b[0mr\u001b[0m\u001b[1;33m[\u001b[0m\u001b[1;36m0\u001b[0m\u001b[1;33m]\u001b[0m\u001b[1;33m,\u001b[0m\u001b[0mr\u001b[0m\u001b[1;33m[\u001b[0m\u001b[1;36m1\u001b[0m\u001b[1;33m]\u001b[0m\u001b[1;33m+\u001b[0m\u001b[1;36m1\u001b[0m\u001b[1;33m)\u001b[0m\u001b[1;33m)\u001b[0m\u001b[1;33m)\u001b[0m\u001b[1;33m)\u001b[0m\u001b[1;33m\u001b[0m\u001b[1;33m\u001b[0m\u001b[0m\n\u001b[0m\u001b[0;32m     17\u001b[0m \u001b[1;33m\u001b[0m\u001b[0m\n\u001b[0;32m     18\u001b[0m         \u001b[1;31m# for b in beaconList:\u001b[0m\u001b[1;33m\u001b[0m\u001b[1;33m\u001b[0m\u001b[0m\n",
      "\u001b[1;31mKeyboardInterrupt\u001b[0m: "
     ]
    }
   ],
   "source": [
    "lim = 4000000\n",
    "getCoveredp2(pos,lim,beaconList)"
   ]
  }
 ],
 "metadata": {
  "kernelspec": {
   "display_name": "base",
   "language": "python",
   "name": "python3"
  },
  "language_info": {
   "codemirror_mode": {
    "name": "ipython",
    "version": 3
   },
   "file_extension": ".py",
   "mimetype": "text/x-python",
   "name": "python",
   "nbconvert_exporter": "python",
   "pygments_lexer": "ipython3",
   "version": "3.9.13"
  },
  "orig_nbformat": 4,
  "vscode": {
   "interpreter": {
    "hash": "7672c032c71307a9d2e2de933bc31a203109ac0f3b59d326ba27acf02560982c"
   }
  }
 },
 "nbformat": 4,
 "nbformat_minor": 2
}
