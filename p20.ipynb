{
 "cells": [
  {
   "cell_type": "code",
   "execution_count": 12,
   "metadata": {},
   "outputs": [],
   "source": [
    "from aocd import get_data\n",
    "\n",
    "YEAR = 2022\n",
    "DAY = 20\n",
    "\n",
    "dat = get_data(day=DAY,year=YEAR)\n",
    "\n",
    "with open('input/20','w') as f:\n",
    "    f.write(dat)\n",
    "\n",
    "f.close()"
   ]
  },
  {
   "cell_type": "code",
   "execution_count": 13,
   "metadata": {},
   "outputs": [],
   "source": [
    "import numpy as np\n",
    "with open('input/20.test') as f:\n",
    "    dat =  [int(i) for i in f.read().split('\\n')]\n",
    "\n",
    "# print(dat)\n",
    "L = len(dat)\n",
    "\n",
    "pDat = list(zip(dat,list(range(L))))\n",
    "# print(pDat)"
   ]
  },
  {
   "cell_type": "code",
   "execution_count": 14,
   "metadata": {},
   "outputs": [],
   "source": [
    "# print(f'original: {pDat}')\n",
    "for i in range(L):\n",
    "    idx =  [j==i for k,j in pDat].index(True)\n",
    "    # print(f'pos: {idx}')\n",
    "    jmp = pDat[idx][0]\n",
    "    if(jmp < 0):\n",
    "        # print(jmp)\n",
    "        jmp = L+jmp-1\n",
    "    # print(f'jmp: {jmp}')\n",
    "\n",
    "    idxnew = (idx + jmp)%(L-1)\n",
    "    # print(f'new index: {idxnew}')\n",
    "    \n",
    "    popped = pDat.pop(idx)\n",
    "    pDat.insert(idxnew,popped)\n",
    "    # print(pDat)\n"
   ]
  },
  {
   "cell_type": "code",
   "execution_count": 15,
   "metadata": {},
   "outputs": [
    {
     "name": "stdout",
     "output_type": "stream",
     "text": [
      "3\n"
     ]
    }
   ],
   "source": [
    "def sum3(pDat):\n",
    "    L = len(pDat)\n",
    "    shift = 0\n",
    "    idx = [k==0 for k,j in pDat].index(True)\n",
    "    # print(pDat)\n",
    "    # print(idx)\n",
    "    print(pDat[(1000 +idx+shift)%L][0] +pDat[(2000 +idx+shift)%L][0] +pDat[(3000 +idx+shift)%L][0])\n",
    "\n",
    "sum3(pDat)"
   ]
  },
  {
   "cell_type": "code",
   "execution_count": 26,
   "metadata": {},
   "outputs": [
    {
     "name": "stdout",
     "output_type": "stream",
     "text": [
      "0\n",
      "1\n",
      "2\n",
      "3\n",
      "4\n",
      "5\n",
      "6\n",
      "7\n",
      "8\n",
      "9\n",
      "17200008919529\n"
     ]
    }
   ],
   "source": [
    "\n",
    "with open('input/20') as f:\n",
    "    dat =  [int(i) for i in f.read().split('\\n')]\n",
    "\n",
    "\n",
    "ENC = 811589153\n",
    "# print(dat)\n",
    "L = len(dat)\n",
    "\n",
    "pDat = list(zip([i* ENC for i in dat],list(range(L))))\n",
    "# print(pDat)\n",
    "\n",
    "for z in range(10):\n",
    "    print(z)\n",
    "    for i in range(L):\n",
    "        idx =  [j==i for k,j in pDat].index(True)\n",
    "        # print(f'pos: {idx}')\n",
    "        jmp = pDat[idx][0]\n",
    "        if(jmp < 0):\n",
    "            # print(jmp)\n",
    "            jmp = L+jmp-1\n",
    "        # print(f'jmp: {jmp}')\n",
    "\n",
    "        idxnew = (idx + jmp)%(L-1)\n",
    "        # print(f'new index: {idxnew}')\n",
    "        \n",
    "        popped = pDat.pop(idx)\n",
    "        pDat.insert(idxnew,popped)\n",
    "        # print(pDat)\n",
    "    # print(pDat)\n",
    "\n",
    "sum3(pDat)"
   ]
  }
 ],
 "metadata": {
  "kernelspec": {
   "display_name": "base",
   "language": "python",
   "name": "python3"
  },
  "language_info": {
   "codemirror_mode": {
    "name": "ipython",
    "version": 3
   },
   "file_extension": ".py",
   "mimetype": "text/x-python",
   "name": "python",
   "nbconvert_exporter": "python",
   "pygments_lexer": "ipython3",
   "version": "3.9.13"
  },
  "orig_nbformat": 4,
  "vscode": {
   "interpreter": {
    "hash": "7672c032c71307a9d2e2de933bc31a203109ac0f3b59d326ba27acf02560982c"
   }
  }
 },
 "nbformat": 4,
 "nbformat_minor": 2
}
