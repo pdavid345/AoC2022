{
 "cells": [
  {
   "cell_type": "code",
   "execution_count": 1,
   "metadata": {},
   "outputs": [],
   "source": [
    "from aocd import get_data\n",
    "\n",
    "YEAR = 2022\n",
    "DAY = 20\n",
    "\n",
    "dat = get_data(day=DAY,year=YEAR)\n",
    "\n",
    "with open('input/20','w') as f:\n",
    "    f.write(dat)\n",
    "\n",
    "f.close()"
   ]
  },
  {
   "cell_type": "code",
   "execution_count": 53,
   "metadata": {},
   "outputs": [
    {
     "name": "stdout",
     "output_type": "stream",
     "text": [
      "[(1, 0), (2, 1), (-3, 2), (3, 3), (-2, 4), (0, 5), (4, 6)]\n"
     ]
    }
   ],
   "source": [
    "import numpy as np\n",
    "with open('input/20.test') as f:\n",
    "    dat =  [int(i) for i in f.read().split('\\n')]\n",
    "\n",
    "# print(dat)\n",
    "L = len(dat)\n",
    "\n",
    "pDat = list(zip(dat,list(range(L))))\n",
    "print(pDat)"
   ]
  },
  {
   "cell_type": "code",
   "execution_count": 55,
   "metadata": {},
   "outputs": [
    {
     "name": "stdout",
     "output_type": "stream",
     "text": [
      "0\n",
      "(1, 0)\n",
      "1\n",
      "(2, 1)\n",
      "2\n",
      "(-3, 2)\n",
      "3\n",
      "(3, 3)\n",
      "4\n",
      "(-2, 4)\n",
      "5\n",
      "(0, 5)\n",
      "6\n",
      "(4, 6)\n"
     ]
    }
   ],
   "source": [
    "for i in range(L):\n",
    "    idx =  [j==i for k,j in pDat].index(True)\n",
    "    print(idx)\n",
    "    jmp = pDat[idx]\n",
    "    print(jmp)\n",
    "\n",
    "    idxnew = (jmp + idx )%L\n",
    "    # print(f'new index: {idxnew}')\n",
    "    # print(pDat[0,0:idx])\n",
    "    # print(pDat[0,idx+1:])\n"
   ]
  },
  {
   "cell_type": "code",
   "execution_count": 40,
   "metadata": {},
   "outputs": [
    {
     "ename": "AttributeError",
     "evalue": "'numpy.ndarray' object has no attribute 'pop'",
     "output_type": "error",
     "traceback": [
      "\u001b[1;31m---------------------------------------------------------------------------\u001b[0m",
      "\u001b[1;31mAttributeError\u001b[0m                            Traceback (most recent call last)",
      "\u001b[1;32m~\\AppData\\Local\\Temp\\ipykernel_17696\\3042816016.py\u001b[0m in \u001b[0;36m<module>\u001b[1;34m\u001b[0m\n\u001b[1;32m----> 1\u001b[1;33m \u001b[0mpDat\u001b[0m\u001b[1;33m.\u001b[0m\u001b[0mpop\u001b[0m\u001b[1;33m(\u001b[0m\u001b[1;36m1\u001b[0m\u001b[1;33m)\u001b[0m\u001b[1;33m\u001b[0m\u001b[1;33m\u001b[0m\u001b[0m\n\u001b[0m",
      "\u001b[1;31mAttributeError\u001b[0m: 'numpy.ndarray' object has no attribute 'pop'"
     ]
    }
   ],
   "source": []
  }
 ],
 "metadata": {
  "kernelspec": {
   "display_name": "base",
   "language": "python",
   "name": "python3"
  },
  "language_info": {
   "codemirror_mode": {
    "name": "ipython",
    "version": 3
   },
   "file_extension": ".py",
   "mimetype": "text/x-python",
   "name": "python",
   "nbconvert_exporter": "python",
   "pygments_lexer": "ipython3",
   "version": "3.9.13"
  },
  "orig_nbformat": 4,
  "vscode": {
   "interpreter": {
    "hash": "7672c032c71307a9d2e2de933bc31a203109ac0f3b59d326ba27acf02560982c"
   }
  }
 },
 "nbformat": 4,
 "nbformat_minor": 2
}
