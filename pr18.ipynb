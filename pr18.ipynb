{
 "cells": [
  {
   "cell_type": "code",
   "execution_count": 141,
   "metadata": {},
   "outputs": [
    {
     "name": "stdout",
     "output_type": "stream",
     "text": [
      "True\n"
     ]
    }
   ],
   "source": [
    "\n",
    "print(True != False)"
   ]
  },
  {
   "cell_type": "code",
   "execution_count": 142,
   "metadata": {},
   "outputs": [],
   "source": [
    "from aocd import get_data\n",
    "\n",
    "YEAR = 2022\n",
    "DAY = 18\n",
    "\n",
    "dat = get_data(day=DAY,year=YEAR)\n",
    "\n",
    "with open('input/18','w') as f:\n",
    "    f.write(dat)\n",
    "\n",
    "f.close()"
   ]
  },
  {
   "cell_type": "code",
   "execution_count": 143,
   "metadata": {},
   "outputs": [],
   "source": [
    "with open('input/18') as f:\n",
    "    dat =  [[int(j) for j in i.split(',')] for i in f.read().split('\\n')]\n"
   ]
  },
  {
   "cell_type": "code",
   "execution_count": 144,
   "metadata": {},
   "outputs": [
    {
     "name": "stdout",
     "output_type": "stream",
     "text": [
      "21 22 22\n"
     ]
    }
   ],
   "source": [
    "maxX = 0\n",
    "maxY = 0\n",
    "maxZ = 0\n",
    "\n",
    "for x,y,z in dat:\n",
    "    maxX = max(x,maxX)\n",
    "    maxY = max(y,maxY)\n",
    "    maxZ = max(z,maxZ)\n",
    "\n",
    "maxX +=1\n",
    "maxY +=1\n",
    "maxZ +=1\n",
    "print(maxX, maxY, maxZ)"
   ]
  },
  {
   "cell_type": "code",
   "execution_count": 145,
   "metadata": {},
   "outputs": [
    {
     "name": "stdout",
     "output_type": "stream",
     "text": [
      "(23, 24, 24)\n",
      "21\n"
     ]
    }
   ],
   "source": [
    "import numpy as np\n",
    "\n",
    "A = np.zeros((maxX,maxY,maxZ))\n",
    "for x,y,z in dat:\n",
    "    A[x,y,z] = 1\n",
    "A = np.pad(A,1)\n",
    "print(np.shape(A))\n",
    "print(maxX)"
   ]
  },
  {
   "cell_type": "code",
   "execution_count": 146,
   "metadata": {},
   "outputs": [
    {
     "name": "stdout",
     "output_type": "stream",
     "text": [
      "4482\n"
     ]
    }
   ],
   "source": [
    "def countDiff(L):\n",
    "    c = 0\n",
    "    for i in range(len(L)-1):\n",
    "        c += (L[i]!=L[i+1])\n",
    "    return c\n",
    "\n",
    "sides = 0\n",
    "for i in range(1,maxX+1):\n",
    "    for j in range(1,maxY +1):\n",
    "        sides +=(countDiff(A[i,j,:]))\n",
    "\n",
    "for i in range(1,maxX+1):\n",
    "    for k in range(1,maxZ +1):\n",
    "        sides +=(countDiff(A[i,:,k]))\n",
    "\n",
    "for j in range(1,maxY+1):\n",
    "    for k in range(1,maxZ +1):\n",
    "        sides +=(countDiff(A[:,j,k]))\n",
    "\n",
    "print(sides)"
   ]
  },
  {
   "cell_type": "code",
   "execution_count": 147,
   "metadata": {},
   "outputs": [],
   "source": [
    "outsideStack = []\n",
    "\n",
    "outsideStack.append([1,1,1])\n",
    "\n",
    "while len(outsideStack)!=0:\n",
    "    s = outsideStack.pop()\n",
    "    A[s[0],s[1],s[2]] = 3\n",
    "\n",
    "    if(s[0] > 0):\n",
    "        if(A[s[0]-1,s[1],s[2]] == 0):\n",
    "            outsideStack.append([s[0]-1,s[1],s[2]])\n",
    "\n",
    "    if(s[0] < maxX+1):\n",
    "        if(A[s[0]+1,s[1],s[2]] == 0):\n",
    "            outsideStack.append([s[0]+1,s[1],s[2]])\n",
    "\n",
    "    if(s[1] > 0):\n",
    "        if(A[s[0],s[1]-1,s[2]] == 0):\n",
    "            outsideStack.append([s[0],s[1]-1,s[2]])\n",
    "\n",
    "    if(s[1] < maxY+1):\n",
    "        if(A[s[0],s[1]+1,s[2]] == 0):\n",
    "            outsideStack.append([s[0],s[1]+1,s[2]])\n",
    "\n",
    "    if(s[2] > 0):\n",
    "        if(A[s[0],s[1],s[2]-1] == 0):\n",
    "            outsideStack.append([s[0],s[1],s[2]-1])\n",
    "\n",
    "    if(s[2] < maxZ+1):\n",
    "        if(A[s[0],s[1],s[2]+1] == 0):\n",
    "            outsideStack.append([s[0],s[1],s[2]+1])\n",
    "\n"
   ]
  },
  {
   "cell_type": "code",
   "execution_count": 148,
   "metadata": {},
   "outputs": [
    {
     "name": "stdout",
     "output_type": "stream",
     "text": [
      "2576\n",
      "[[[3. 3. 3. ... 3. 3. 3.]\n",
      "  [3. 3. 3. ... 3. 3. 3.]\n",
      "  [3. 3. 3. ... 3. 3. 3.]\n",
      "  ...\n",
      "  [3. 3. 3. ... 3. 3. 3.]\n",
      "  [3. 3. 3. ... 3. 3. 3.]\n",
      "  [3. 3. 3. ... 3. 3. 3.]]\n",
      "\n",
      " [[3. 3. 3. ... 3. 3. 3.]\n",
      "  [3. 3. 3. ... 3. 3. 3.]\n",
      "  [3. 3. 3. ... 3. 3. 3.]\n",
      "  ...\n",
      "  [3. 3. 3. ... 3. 3. 3.]\n",
      "  [3. 3. 3. ... 3. 3. 3.]\n",
      "  [3. 3. 3. ... 3. 3. 3.]]\n",
      "\n",
      " [[3. 3. 3. ... 3. 3. 3.]\n",
      "  [3. 3. 3. ... 3. 3. 3.]\n",
      "  [3. 3. 3. ... 3. 3. 3.]\n",
      "  ...\n",
      "  [3. 3. 3. ... 3. 3. 3.]\n",
      "  [3. 3. 3. ... 3. 3. 3.]\n",
      "  [3. 3. 3. ... 3. 3. 3.]]\n",
      "\n",
      " ...\n",
      "\n",
      " [[3. 3. 3. ... 3. 3. 3.]\n",
      "  [3. 3. 3. ... 3. 3. 3.]\n",
      "  [3. 3. 3. ... 3. 3. 3.]\n",
      "  ...\n",
      "  [3. 3. 3. ... 3. 3. 3.]\n",
      "  [3. 3. 3. ... 3. 3. 3.]\n",
      "  [3. 3. 3. ... 3. 3. 3.]]\n",
      "\n",
      " [[3. 3. 3. ... 3. 3. 3.]\n",
      "  [3. 3. 3. ... 3. 3. 3.]\n",
      "  [3. 3. 3. ... 3. 3. 3.]\n",
      "  ...\n",
      "  [3. 3. 3. ... 3. 3. 3.]\n",
      "  [3. 3. 3. ... 3. 3. 3.]\n",
      "  [3. 3. 3. ... 3. 3. 3.]]\n",
      "\n",
      " [[3. 3. 3. ... 3. 3. 3.]\n",
      "  [3. 3. 3. ... 3. 3. 3.]\n",
      "  [3. 3. 3. ... 3. 3. 3.]\n",
      "  ...\n",
      "  [3. 3. 3. ... 3. 3. 3.]\n",
      "  [3. 3. 3. ... 3. 3. 3.]\n",
      "  [3. 3. 3. ... 3. 3. 3.]]]\n"
     ]
    }
   ],
   "source": [
    "def countDiffpart2(L):\n",
    "    c = 0\n",
    "    for i in range(len(L)-1):\n",
    "        c += (abs(L[i]-L[i+1]) ==2)\n",
    "    return c\n",
    "\n",
    "sides = 0\n",
    "for i in range(1,maxX+1):\n",
    "    for j in range(1,maxY +1):\n",
    "        sides +=(countDiffpart2(A[i,j,:]))\n",
    "\n",
    "for i in range(1,maxX+1):\n",
    "    for k in range(1,maxZ +1):\n",
    "        sides +=(countDiffpart2(A[i,:,k]))\n",
    "\n",
    "for j in range(1,maxY+1):\n",
    "    for k in range(1,maxZ +1):\n",
    "        sides +=(countDiffpart2(A[:,j,k]))\n",
    "print(sides)\n",
    "\n",
    "print(A)"
   ]
  }
 ],
 "metadata": {
  "kernelspec": {
   "display_name": "base",
   "language": "python",
   "name": "python3"
  },
  "language_info": {
   "codemirror_mode": {
    "name": "ipython",
    "version": 3
   },
   "file_extension": ".py",
   "mimetype": "text/x-python",
   "name": "python",
   "nbconvert_exporter": "python",
   "pygments_lexer": "ipython3",
   "version": "3.9.13"
  },
  "orig_nbformat": 4,
  "vscode": {
   "interpreter": {
    "hash": "7672c032c71307a9d2e2de933bc31a203109ac0f3b59d326ba27acf02560982c"
   }
  }
 },
 "nbformat": 4,
 "nbformat_minor": 2
}
