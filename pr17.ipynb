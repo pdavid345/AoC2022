{
 "cells": [
  {
   "cell_type": "code",
   "execution_count": 724,
   "metadata": {},
   "outputs": [],
   "source": [
    "from aocd import get_data\n",
    "\n",
    "YEAR = 2022\n",
    "DAY = 17\n",
    "\n",
    "dat = get_data(day=DAY,year=YEAR)\n",
    "\n",
    "with open('input/17','w') as f:\n",
    "    f.write(dat)\n",
    "\n",
    "f.close()"
   ]
  },
  {
   "cell_type": "code",
   "execution_count": 735,
   "metadata": {},
   "outputs": [
    {
     "name": "stdout",
     "output_type": "stream",
     "text": [
      "10091\n"
     ]
    }
   ],
   "source": [
    "with open('input/17') as f:\n",
    "    dat = f.read()\n",
    "\n",
    "print(len(dat))\n",
    "\n"
   ]
  },
  {
   "cell_type": "code",
   "execution_count": 726,
   "metadata": {},
   "outputs": [
    {
     "name": "stdout",
     "output_type": "stream",
     "text": [
      "[]\n"
     ]
    }
   ],
   "source": [
    "import numpy as np\n",
    "A = np.zeros((0,7),dtype = int)\n",
    "print(A)\n",
    "H = 0\n"
   ]
  },
  {
   "cell_type": "code",
   "execution_count": 727,
   "metadata": {},
   "outputs": [],
   "source": [
    "# define tetronemos\n",
    "#[y,x]\n",
    "L = []\n",
    "L.append([[3,2],[3,3],[3,4],[3,5]])\n",
    "L.append([[1,3],[2,2],[2,3],[2,4],[3,3]])\n",
    "L.append([[1,4],[2,4],[3,2],[3,3],[3,4]])\n",
    "L.append([[0,2],[1,2],[2,2],[3,2]])\n",
    "L.append([[2,2],[2,3],[3,2],[3,3]])"
   ]
  },
  {
   "cell_type": "code",
   "execution_count": null,
   "metadata": {},
   "outputs": [],
   "source": []
  },
  {
   "cell_type": "code",
   "execution_count": 728,
   "metadata": {},
   "outputs": [],
   "source": [
    "def push(A,t,dir):\n",
    "    canPush = True\n",
    "    xPos = [i[1] for i in t]\n",
    "    if(dir == '>'):\n",
    "\n",
    "        if(any([i==6 for i in xPos])):\n",
    "            canPush = False\n",
    "        else:\n",
    "            for i in t:\n",
    "                if(A[i[0],i[1]+1] >0):\n",
    "                    canPush = False\n",
    "\n",
    "        # print(f'Was pushed right: {canPush}')\n",
    "        if(not canPush):\n",
    "            return t\n",
    "        elif(canPush):\n",
    "            j = [[i[0],i[1]+1] for i in t]\n",
    "            # print(j)\n",
    "            return j\n",
    "                \n",
    "    if(dir == '<'):\n",
    "        if(any([i==0 for i in xPos])):\n",
    "            canPush = False\n",
    "        else:\n",
    "            for i in t:\n",
    "                if(A[i[0],i[1]-1] >0):\n",
    "                    canPush = False\n",
    "\n",
    "        # print(f'Was pushed left: {canPush}')\n",
    "        if(not canPush):\n",
    "            return t\n",
    "        elif(canPush):\n",
    "            # print(t)\n",
    "            j = [[i[0],i[1]-1] for i in t]\n",
    "            # print(j)\n",
    "            return j\n",
    "\n",
    "def fall(A,t,i):\n",
    "    isFrozen = False\n",
    "    L = np.shape(A)[0]\n",
    "    # print(f'L: {L}')\n",
    "    for y,x in t:\n",
    "        if y == L-1:\n",
    "            isFrozen = True\n",
    "        elif(A[y+1,x] >0):\n",
    "            isFrozen = True\n",
    "\n",
    "    if(not isFrozen):\n",
    "        j = [[i[0]+1,i[1]] for i in t]\n",
    "        return A,j,isFrozen\n",
    "    \n",
    "    if(isFrozen):\n",
    "        for y,x in t:\n",
    "            A[y,x] = i+1\n",
    "        return A,t,isFrozen"
   ]
  },
  {
   "cell_type": "code",
   "execution_count": 729,
   "metadata": {},
   "outputs": [
    {
     "name": "stdout",
     "output_type": "stream",
     "text": [
      "2322\n"
     ]
    }
   ],
   "source": [
    "# Problem 1\n",
    "N = 1530\n",
    "A = np.zeros((0,7),dtype = int)\n",
    "j=0\n",
    "for i in range(N):\n",
    "    t = L[i%5].copy()\n",
    "    isFrozen = False\n",
    "    A= np.append(np.zeros((7,7),dtype=int),A, axis = 0) \n",
    "    while(not isFrozen):\n",
    "        # print(f'command: {j}')\n",
    "        dir = dat[j%len(dat)]\n",
    "        # print(f'step {j}, dir {dir}')\n",
    "        # print(t)\n",
    "        t = push(A,t,dir)\n",
    "        A,t,isFrozen = fall(A,t,i)\n",
    "        # print(f'is frozen after fall: {isFrozen}')\n",
    "        j+=1\n",
    "    A = A[max(np.where(~A.any(axis=1))[0])+1:,:]\n",
    "\n",
    "\n",
    "print(np.shape(A)[0])\n"
   ]
  },
  {
   "cell_type": "code",
   "execution_count": 737,
   "metadata": {},
   "outputs": [
    {
     "name": "stdout",
     "output_type": "stream",
     "text": [
      "10091\n",
      "Pattern found, 10590, 499, loop length is: 10091, Nrocks = 1720, rocks before pattern found: 85, loopheight = 2702 \n",
      "firstrocks: 85 piling up to 133\n",
      "number of rocks remaining for loops: 999999999915 \n",
      "Number of cycles:1000000000000 div 1720 = 581395348,  remaining 1355\n",
      "remainder calc:  85 lookup: 133, 1440 :2287, diff: 2154\n",
      "Total: 133 + 581395348 * 2702 + rem: 2153\n",
      "1570930232582\n"
     ]
    }
   ],
   "source": [
    "N = 1000000000000\n",
    "import math\n",
    "#Problem 2\n",
    "lenCommand = len(dat)\n",
    "print(lenCommand)\n",
    "jmods = dict()\n",
    "h = dict()\n",
    "heightIndex = dict()\n",
    "A = np.zeros((0,7),dtype = int)\n",
    "j=0\n",
    "for i in range(100000000):\n",
    "    t = L[i%5].copy()\n",
    "    isFrozen = False\n",
    "    A= np.append(np.zeros((7,7),dtype=int),A, axis = 0) \n",
    "    while(not isFrozen):\n",
    "        # print(f'count: {j} mod: {j%lenCommand}')\n",
    "        dir = dat[j%lenCommand]\n",
    "        # print(f'step {j}, dir {dir}')\n",
    "        # print(t)\n",
    "        t = push(A,t,dir)\n",
    "        A,t,isFrozen = fall(A,t,i)\n",
    "        # print(f'is frozen after fall: {isFrozen}')\n",
    "        j+=1\n",
    "    A = A[max(np.where(~A.any(axis=1))[0])+1:,:]\n",
    "    # print(f'A: \\n{A}')\n",
    "    \n",
    "    #if flat side is being put down\n",
    "    h[j] = np.shape(A)[0]\n",
    "    heightIndex[i] = np.shape(A)[0]\n",
    "    if i%5 ==0:\n",
    "        if j%lenCommand not in jmods.values():\n",
    "\n",
    "            jmods[j] = j%lenCommand\n",
    "        else:\n",
    "            break\n",
    "\n",
    "\n",
    "value = {i for i in jmods if jmods[i]==j%lenCommand}.pop()\n",
    "loopHeight = np.shape(A)[0] -h[value]\n",
    "goodrocks = 0\n",
    "firstrocks= 0\n",
    "for v in jmods.keys():\n",
    "    if v >= value:\n",
    "        goodrocks+=1\n",
    "    else:\n",
    "        firstrocks +=1\n",
    "loopLength  = j - value\n",
    "# print(h)\n",
    "print(f'Pattern found, {j}, {j%lenCommand}, loop length is: {loopLength}, Nrocks = {goodrocks*5}, rocks before pattern found: {firstrocks*5}, loopheight = {loopHeight} ')\n",
    "print(f'firstrocks: {firstrocks*5} piling up to {h[value]}')\n",
    "\n",
    "\n",
    "print(f'number of rocks remaining for loops: {N - firstrocks*5} ')\n",
    "print(f'Number of cycles:{N} div {goodrocks*5} = {math.floor((N-firstrocks*5)/(goodrocks*5))},  remaining {(N-firstrocks*5)%(goodrocks*5)}')\n",
    "print(f'remainder calc:  {firstrocks*5} lookup: {heightIndex[firstrocks*5]}, {firstrocks*5 + (N-firstrocks*5)%(goodrocks*5)} :{heightIndex[firstrocks*5 + (N-firstrocks*5)%(goodrocks*5)]}, diff: {heightIndex[firstrocks*5 + (N-firstrocks*5)%(goodrocks*5)] - heightIndex[firstrocks*5]}')\n",
    "print(f'Total: {h[value]} + {math.floor((N-firstrocks*5)/(goodrocks*5))} * {loopHeight} + rem: {heightIndex[firstrocks*5 + (N-firstrocks*5)%(goodrocks*5)] - heightIndex[firstrocks*5] -1}')\n",
    "print(math.floor((N-firstrocks*5)/(goodrocks*5))*loopHeight + h[value] + heightIndex[firstrocks*5 + (N-firstrocks*5)%(goodrocks*5)] - heightIndex[firstrocks*5] -1)\n",
    "\n"
   ]
  },
  {
   "cell_type": "code",
   "execution_count": null,
   "metadata": {},
   "outputs": [],
   "source": []
  }
 ],
 "metadata": {
  "kernelspec": {
   "display_name": "base",
   "language": "python",
   "name": "python3"
  },
  "language_info": {
   "codemirror_mode": {
    "name": "ipython",
    "version": 3
   },
   "file_extension": ".py",
   "mimetype": "text/x-python",
   "name": "python",
   "nbconvert_exporter": "python",
   "pygments_lexer": "ipython3",
   "version": "3.9.13"
  },
  "orig_nbformat": 4,
  "vscode": {
   "interpreter": {
    "hash": "7672c032c71307a9d2e2de933bc31a203109ac0f3b59d326ba27acf02560982c"
   }
  }
 },
 "nbformat": 4,
 "nbformat_minor": 2
}
