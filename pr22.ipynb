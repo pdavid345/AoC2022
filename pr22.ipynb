{
 "cells": [
  {
   "cell_type": "code",
   "execution_count": 66,
   "metadata": {},
   "outputs": [],
   "source": [
    "from aocd import get_data\n",
    "\n",
    "YEAR = 2022\n",
    "DAY = 22\n",
    "\n",
    "dat = get_data(day=DAY,year=YEAR)\n",
    "\n",
    "with open('input/22','w') as f:\n",
    "    f.write(dat)\n",
    "\n",
    "f.close()"
   ]
  },
  {
   "cell_type": "code",
   "execution_count": 67,
   "metadata": {},
   "outputs": [
    {
     "name": "stdout",
     "output_type": "stream",
     "text": [
      "16 12\n"
     ]
    }
   ],
   "source": [
    "with open('input/22') as f:\n",
    "    dat =  f.read().split('\\n')\n",
    "\n",
    "import regex as re\n",
    "comm  = dat[-1]\n",
    "dat = dat[:-2]\n",
    "X = max([len(l) for l  in dat])\n",
    "Y = len(dat)\n",
    "print(X,Y)"
   ]
  },
  {
   "cell_type": "code",
   "execution_count": 68,
   "metadata": {},
   "outputs": [
    {
     "name": "stdout",
     "output_type": "stream",
     "text": [
      "[[ 0  0  0  0  0  0  0  0  1  1  1 -1  0  0  0  0]\n",
      " [ 0  0  0  0  0  0  0  0  1 -1  1  1  0  0  0  0]\n",
      " [ 0  0  0  0  0  0  0  0 -1  1  1  1  0  0  0  0]\n",
      " [ 0  0  0  0  0  0  0  0  1  1  1  1  0  0  0  0]\n",
      " [ 1  1  1 -1  1  1  1  1  1  1  1 -1  0  0  0  0]\n",
      " [ 1  1  1  1  1  1  1  1 -1  1  1  1  0  0  0  0]\n",
      " [ 1  1 -1  1  1  1  1 -1  1  1  1  1  0  0  0  0]\n",
      " [ 1  1  1  1  1  1  1  1  1  1 -1  1  0  0  0  0]\n",
      " [ 0  0  0  0  0  0  0  0  1  1  1 -1  1  1  1  1]\n",
      " [ 0  0  0  0  0  0  0  0  1  1  1  1  1 -1  1  1]\n",
      " [ 0  0  0  0  0  0  0  0  1 -1  1  1  1  1  1  1]\n",
      " [ 0  0  0  0  0  0  0  0  1  1  1  1  1  1 -1  1]]\n"
     ]
    }
   ],
   "source": [
    "import numpy as np\n",
    "A = np.zeros((Y,X),dtype=int)\n",
    "# print(A)\n",
    "\n",
    "for lIdx, l in enumerate(dat):\n",
    "    s = l.lstrip(' ')\n",
    "    spaces = len(l) - len(s)\n",
    "    for i in range(spaces,spaces + len(s)):\n",
    "        A[lIdx][i] = 1 if( l[i] == '.') else -1\n",
    "print(A)"
   ]
  },
  {
   "cell_type": "code",
   "execution_count": 74,
   "metadata": {},
   "outputs": [],
   "source": [
    "import math\n",
    "def moveAhead(A,pos,dir,move):\n",
    "    if(dir ==0):  #right\n",
    "        l = A[pos[0],:]\n",
    "        # print(f'l: {l} \\npos{pos}, move: {move}')\n",
    "        pos[1] = moveDir(l,pos[1],move)\n",
    "        return pos\n",
    "        # print(pos)\n",
    "    if(dir ==2):  # left\n",
    "        l = A[pos[0],:]\n",
    "        # print(l)\n",
    "        l = l[::-1]\n",
    "        # print(l)\n",
    "        # print(f'l: {l} \\npos{pos}, move: {move}')\n",
    "        postmp= moveDir(l,len(l) - pos[1] - 1,move)\n",
    "        pos[1] = len(l) - postmp -1\n",
    "        return pos\n",
    "        # print(pos)\n",
    "    if(dir == 1): # up\n",
    "        # print(A[:pos[0],pos[1]])\n",
    "        l = A[:,pos[1]]\n",
    "        l = l[::-1]\n",
    "        # print(f'l: {l} \\npos{pos}, move: {move}')\n",
    "        postmp= moveDir(l,len(l) - pos[0] -1,move)\n",
    "        pos[0] = len(l) - postmp -1\n",
    "        return pos\n",
    "        # print(pos)\n",
    "    if(dir == 3): # down\n",
    "        # print(A[pos[0]+1:,pos[1]])\n",
    "        l = A[:,pos[1]]\n",
    "        # print(f'l: {l} \\npos{pos}, move: {move}')\n",
    "        pos[0] = moveDir(l,pos[0],move)\n",
    "        return pos\n",
    "        # print(pos)\n",
    "def moveDir(l,pos,move):\n",
    "        # np.where(l!=0)\n",
    "        s = l[np.where(l!=0)]\n",
    "        # print(f'pos: {pos}')\n",
    "        # print(f'l: {l}')\n",
    "        # print(f's: {s}')\n",
    "        spos =pos -  np.where(l!=0)[0][0]\n",
    "        # print(f'spos: {spos}')\n",
    "        # print(f'move: {move}')\n",
    "        # print(f'npweher: {np.where(l!=0)[0][0]}')\n",
    "        # print(f'spos after move: {(spos + move)%len(s)}')\n",
    "        loopCount = math.floor((spos + move) /len(s))\n",
    "        stile = np.tile(s,loopCount+1)\n",
    "        # print(f'loopcount: {loopCount}')\n",
    "        # print(f'new l: {stile}')\n",
    "        # print(f'stile until move: {stile[spos+1:(spos + move+1)]}')\n",
    "        if(len(np.where(stile[spos+1:spos + move+1]==-1)[0]) ==0):\n",
    "            # print('no -1s in current dir')\n",
    "            # print(f'final pos: {(spos + move )%len(s) +  np.where(l!=0)[0][0]}')\n",
    "            return (spos + move )%len(s) +  np.where(l!=0)[0][0]\n",
    "        else:\n",
    "            # print('there is -1 in dir')\n",
    "            #there is a -1 is the move direction\n",
    "            # print((spos + np.where(stile[spos+1:spos + move+1]==-1)[0][0])%len(s) + spos)\n",
    "            # print(f'final pos: {(spos+ np.where(stile[spos+1:spos + move+1]==-1)[0][0])%len(s) +np.where(l!=0)[0][0]}')\n",
    "            return (spos+ np.where(stile[spos+1:spos + move+1]==-1)[0][0])%len(s) +np.where(l!=0)[0][0]\n"
   ]
  },
  {
   "cell_type": "code",
   "execution_count": 76,
   "metadata": {},
   "outputs": [
    {
     "name": "stdout",
     "output_type": "stream",
     "text": [
      "6032\n"
     ]
    }
   ],
   "source": [
    "comms  = re.findall('(\\d+|L|R)', comm)\n",
    "# print(comms)\n",
    "\n",
    "# dirs: 0: right, 1: up, 2: left, 3: down. Turn left: dir+=1, turn right: dir-=1\n",
    "\n",
    "pos = [0,np.where(A[0,:]>0)[0][0]]\n",
    "dir = 0\n",
    "# print(pos)\n",
    "for c in comms:\n",
    "    # print('\\n')\n",
    "    if(c == 'L'):\n",
    "        dir = (dir+1)%4\n",
    "        # print(f'dir: {dir}')\n",
    "    elif(c == 'R'):\n",
    "        dir = (dir-1)%4\n",
    "        # print(f'dir: {dir}')\n",
    "    else:\n",
    "        # print(pos)\n",
    "        pos = moveAhead(A,pos,dir,int(c))\n",
    "        # print(pos)  \n",
    "\n",
    "if(dir ==1):\n",
    "    dirOut = 3\n",
    "elif(dir == 3):\n",
    "    dirOut =1\n",
    "else: \n",
    "    dirOut = dir\n",
    "print( 1000 * (pos[0]+ 1 ) + 4 * (pos[1] + 1) + dir)"
   ]
  },
  {
   "cell_type": "code",
   "execution_count": 71,
   "metadata": {},
   "outputs": [
    {
     "name": "stdout",
     "output_type": "stream",
     "text": [
      "10R5L5R10L4R5L5\n"
     ]
    }
   ],
   "source": [
    "print(comm)"
   ]
  }
 ],
 "metadata": {
  "kernelspec": {
   "display_name": "base",
   "language": "python",
   "name": "python3"
  },
  "language_info": {
   "codemirror_mode": {
    "name": "ipython",
    "version": 3
   },
   "file_extension": ".py",
   "mimetype": "text/x-python",
   "name": "python",
   "nbconvert_exporter": "python",
   "pygments_lexer": "ipython3",
   "version": "3.9.13"
  },
  "orig_nbformat": 4,
  "vscode": {
   "interpreter": {
    "hash": "7672c032c71307a9d2e2de933bc31a203109ac0f3b59d326ba27acf02560982c"
   }
  }
 },
 "nbformat": 4,
 "nbformat_minor": 2
}
